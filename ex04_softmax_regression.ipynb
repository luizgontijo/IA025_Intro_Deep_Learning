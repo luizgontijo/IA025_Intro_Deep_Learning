{
  "nbformat": 4,
  "nbformat_minor": 0,
  "metadata": {
    "anaconda-cloud": {},
    "kernelspec": {
      "display_name": "Python 3",
      "language": "python",
      "name": "python3"
    },
    "language_info": {
      "codemirror_mode": {
        "name": "ipython",
        "version": 3
      },
      "file_extension": ".py",
      "mimetype": "text/x-python",
      "name": "python",
      "nbconvert_exporter": "python",
      "pygments_lexer": "ipython3",
      "version": "3.6.5"
    },
    "toc": {
      "nav_menu": {
        "height": "318px",
        "width": "252px"
      },
      "number_sections": true,
      "sideBar": true,
      "skip_h1_title": false,
      "toc_cell": false,
      "toc_position": {},
      "toc_section_display": "block",
      "toc_window_display": false
    },
    "colab": {
      "name": "ex04_softmax_regression.ipynb",
      "provenance": [],
      "collapsed_sections": [],
      "include_colab_link": true
    }
  },
  "cells": [
    {
      "cell_type": "markdown",
      "metadata": {
        "id": "view-in-github",
        "colab_type": "text"
      },
      "source": [
        "<a href=\"https://colab.research.google.com/github/luizgontijo/IA025_Intro_Deep_Learning/blob/main/ex04_softmax_regression.ipynb\" target=\"_parent\"><img src=\"https://colab.research.google.com/assets/colab-badge.svg\" alt=\"Open In Colab\"/></a>"
      ]
    },
    {
      "cell_type": "markdown",
      "source": [
        "# Aluno: Luiz Fernando da Costa Gontijo RA230677"
      ],
      "metadata": {
        "id": "8jFvK3ZzV7MS"
      }
    },
    {
      "cell_type": "markdown",
      "metadata": {
        "id": "J3R2-_YuQT1r"
      },
      "source": [
        "# Regressão Softmax com dados do MNIST utilizando gradiente descendente estocástico por minibatches"
      ]
    },
    {
      "cell_type": "markdown",
      "metadata": {
        "id": "WkfGTqMVQT1u"
      },
      "source": [
        "Este exercicío consiste em treinar um modelo de uma única camada linear no MNIST **sem** usar as seguintes funções do pytorch:\n",
        "\n",
        "- torch.nn.Linear\n",
        "- torch.nn.CrossEntropyLoss\n",
        "- torch.nn.NLLLoss\n",
        "- torch.nn.LogSoftmax\n",
        "- torch.optim.SGD\n",
        "- torch.utils.data.Dataloader"
      ]
    },
    {
      "cell_type": "markdown",
      "metadata": {
        "id": "wFNf4RPxQT1w"
      },
      "source": [
        "## Importação das bibliotecas"
      ]
    },
    {
      "cell_type": "code",
      "metadata": {
        "ExecuteTime": {
          "end_time": "2018-08-21T14:08:14.033692Z",
          "start_time": "2018-08-21T14:08:11.179981Z"
        },
        "id": "-fLUSHaCQT1x"
      },
      "source": [
        "%matplotlib inline\n",
        "import numpy as np\n",
        "import matplotlib.pyplot as plt\n",
        "import random\n",
        "import torch\n",
        "import torchvision\n",
        "from torchvision.datasets import MNIST"
      ],
      "execution_count": null,
      "outputs": []
    },
    {
      "cell_type": "markdown",
      "source": [
        "## Fixando as seeds"
      ],
      "metadata": {
        "id": "7_Po22b5ykhK"
      }
    },
    {
      "cell_type": "code",
      "source": [
        "# rodar essas seeds sempre que for rodar modelo de novo\n",
        "\n",
        "random.seed(123)\n",
        "np.random.seed(123)\n",
        "torch.manual_seed(123)"
      ],
      "metadata": {
        "id": "y-7WWWgLyoRq",
        "colab": {
          "base_uri": "https://localhost:8080/"
        },
        "outputId": "71ab8409-ee5c-4477-e9fb-9ef1f0f05cff"
      },
      "execution_count": null,
      "outputs": [
        {
          "output_type": "execute_result",
          "data": {
            "text/plain": [
              "<torch._C.Generator at 0x7f79896f9030>"
            ]
          },
          "metadata": {},
          "execution_count": 33
        }
      ]
    },
    {
      "cell_type": "markdown",
      "metadata": {
        "id": "jEMUsfJpQT11"
      },
      "source": [
        "## Dataset e dataloader"
      ]
    },
    {
      "cell_type": "markdown",
      "metadata": {
        "id": "vHoQjDs_QT12"
      },
      "source": [
        "### Definição do tamanho do minibatch"
      ]
    },
    {
      "cell_type": "code",
      "metadata": {
        "ExecuteTime": {
          "end_time": "2018-08-21T14:08:20.282474Z",
          "start_time": "2018-08-21T14:08:20.275450Z"
        },
        "id": "tEQYUr4TQT13"
      },
      "source": [
        "batch_size = 50"
      ],
      "execution_count": null,
      "outputs": []
    },
    {
      "cell_type": "markdown",
      "metadata": {
        "id": "dc7Rv_2BQT16"
      },
      "source": [
        "### Carregamento, criação dataset e do dataloader"
      ]
    },
    {
      "cell_type": "code",
      "metadata": {
        "ExecuteTime": {
          "end_time": "2018-08-21T14:10:45.430605Z",
          "start_time": "2018-08-21T14:10:04.953051Z"
        },
        "id": "G0dEKCn-QT17",
        "colab": {
          "base_uri": "https://localhost:8080/"
        },
        "outputId": "902c3287-92ae-46f0-f5cd-3e2a973e1901"
      },
      "source": [
        "dataset_dir = '../data/'\n",
        "\n",
        "dataset_train_full = MNIST(dataset_dir, train=True, download=True,\n",
        "                           transform=torchvision.transforms.ToTensor())\n",
        "print(dataset_train_full.data.shape)\n",
        "print(dataset_train_full.targets.shape)"
      ],
      "execution_count": null,
      "outputs": [
        {
          "output_type": "stream",
          "name": "stdout",
          "text": [
            "torch.Size([60000, 28, 28])\n",
            "torch.Size([60000])\n"
          ]
        }
      ]
    },
    {
      "cell_type": "markdown",
      "metadata": {
        "id": "_rOy9ntrQT2D"
      },
      "source": [
        "### Usando apenas 1000 amostras do MNIST\n",
        "\n",
        "Neste exercício utilizaremos 1000 amostras de treinamento."
      ]
    },
    {
      "cell_type": "code",
      "metadata": {
        "id": "WNF2XjLBWWe7"
      },
      "source": [
        "indices = torch.randperm(len(dataset_train_full))[:1000]\n",
        "dataset_train = torch.utils.data.Subset(dataset_train_full, indices)"
      ],
      "execution_count": null,
      "outputs": []
    },
    {
      "cell_type": "code",
      "source": [
        "from math import ceil"
      ],
      "metadata": {
        "id": "2op_y3wGHO2d"
      },
      "execution_count": null,
      "outputs": []
    },
    {
      "cell_type": "code",
      "metadata": {
        "id": "aSNLD2JyA2e-"
      },
      "source": [
        "# Escreva aqui o equivalente do código abaixo:\n",
        "# loader_train = torch.utils.data.DataLoader(dataset_train, batch_size=batch_size, shuffle=False)\n",
        "\n",
        "# deve fazer:\n",
        "# separar dados em batchs\n",
        "# realizar ou não shuffle\n",
        "# poder iterar nos batchs\n",
        "\n",
        "class DataLoader:\n",
        "  def __init__(self, dataset, batch_size, shuffle=True):\n",
        "    # batch size\n",
        "    self.batch_size = batch_size\n",
        "\n",
        "    # shuffle or not\n",
        "    if shuffle:\n",
        "      self.dataset = dataset[torch.randperm(len(dataset))]\n",
        "    else:\n",
        "      self.dataset = dataset\n",
        "\n",
        "  def __len__(self):\n",
        "    self.batch_number = ceil(len(self.dataset)/self.batch_size)\n",
        "    return self.batch_number\n",
        "\n",
        "  def __iter__(self):\n",
        "    self.batch_index = 0\n",
        "    return self\n",
        "\n",
        "  def __next__(self):\n",
        "    batch_size = self.batch_size\n",
        "    #print(batch_size)\n",
        "\n",
        "    if self.batch_index >= len(self.dataset):\n",
        "      raise StopIteration\n",
        "\n",
        "    # pegar cada batch\n",
        "    for batch_index in range(batch_size):\n",
        "      # print(batch)\n",
        "      data, target = self.dataset[batch_index + self.batch_index]\n",
        "\n",
        "      if batch_index == 0:\n",
        "        batch_data = data\n",
        "        batch_targets = torch.tensor([target])\n",
        "      else:\n",
        "        batch_data = torch.cat((batch_data, data))\n",
        "        batch_targets = torch.cat((batch_targets, torch.tensor([target])))\n",
        "      # incrementar ao final do loop para ir para o próximo número\n",
        "    self.batch_index += batch_size\n",
        "\n",
        "    return batch_data, batch_targets\n",
        "\n",
        "loader_train = DataLoader(dataset_train, batch_size=batch_size, shuffle=False)"
      ],
      "execution_count": null,
      "outputs": []
    },
    {
      "cell_type": "code",
      "source": [
        "print('Número de minibatches de treinamento:', len(loader_train))\n",
        "\n",
        "x_train, y_train = next(iter(loader_train))\n",
        "print(\"\\nDimensões dos dados de um minibatch:\", x_train.size())\n",
        "print(\"Valores mínimo e máximo dos pixels: \", torch.min(x_train), torch.max(x_train))\n",
        "print(\"Tipo dos dados das imagens:         \", type(x_train))\n",
        "print(\"Tipo das classes das imagens:       \", type(y_train))"
      ],
      "metadata": {
        "colab": {
          "base_uri": "https://localhost:8080/"
        },
        "id": "ocEQc6AHHcmh",
        "outputId": "866c75ab-ace2-4496-ca11-4a9ca8c933f7"
      },
      "execution_count": null,
      "outputs": [
        {
          "output_type": "stream",
          "name": "stdout",
          "text": [
            "Número de minibatches de treinamento: 20\n",
            "\n",
            "Dimensões dos dados de um minibatch: torch.Size([50, 28, 28])\n",
            "Valores mínimo e máximo dos pixels:  tensor(0.) tensor(1.)\n",
            "Tipo dos dados das imagens:          <class 'torch.Tensor'>\n",
            "Tipo das classes das imagens:        <class 'torch.Tensor'>\n"
          ]
        }
      ]
    },
    {
      "cell_type": "markdown",
      "metadata": {
        "id": "BQA9Zg7GQT2G"
      },
      "source": [
        "## Modelo"
      ]
    },
    {
      "cell_type": "code",
      "source": [
        "# Escreva aqui o codigo para criar um modelo cujo o equivalente é: \n",
        "# model = torch.nn.Linear(28*28, 10)\n",
        "# model.load_state_dict(dict(weight=torch.zeros(model.weight.shape), bias=torch.zeros(model.bias.shape)))\n",
        "\n",
        "# deve fazer:\n",
        "# receber dados de tamanho da rede\n",
        "# realizar produto escalar entre vetores de pesos e de entrada e somar com o bias\n",
        "# entregar dados de pesos e bias\n",
        "\n",
        "class Model:\n",
        "    def __init__(self, n_in: int, n_out: int):\n",
        "        self.weights = torch.zeros(n_out,n_in, requires_grad=True)\n",
        "        self.bias = torch.zeros(n_out, requires_grad=True)\n",
        "\n",
        "    def __call__(self,x):    \n",
        "        y_pred = x.mm(torch.t(self.weights))+self.bias.unsqueeze(0)\n",
        "        return y_pred\n",
        "    \n",
        "    def parameters(self):\n",
        "        return self.weights, self.bias\n",
        "    \n",
        "model = Model(28*28,10)"
      ],
      "metadata": {
        "id": "D-YgqIvlQiIt"
      },
      "execution_count": null,
      "outputs": []
    },
    {
      "cell_type": "markdown",
      "metadata": {
        "id": "0NHQB4wGQT2K"
      },
      "source": [
        "## Treinamento"
      ]
    },
    {
      "cell_type": "markdown",
      "metadata": {
        "id": "nqs2JhJoQT2L"
      },
      "source": [
        "### Inicialização dos parâmetros"
      ]
    },
    {
      "cell_type": "code",
      "metadata": {
        "ExecuteTime": {
          "end_time": "2018-08-20T21:03:14.146259Z",
          "start_time": "2018-08-20T21:03:14.139515Z"
        },
        "id": "oZuYEkn_QT2M"
      },
      "source": [
        "n_epochs = 50\n",
        "lr = 0.1"
      ],
      "execution_count": null,
      "outputs": []
    },
    {
      "cell_type": "markdown",
      "metadata": {
        "id": "tGeMCRw5kQMU"
      },
      "source": [
        "## Definição da Loss\n",
        "\n"
      ]
    },
    {
      "cell_type": "markdown",
      "source": [
        "CrossEntropyLoss = $\\frac{-\\sum (-z_{y}) + log(\\sum_{j}exp(z_{j}))}{N}$"
      ],
      "metadata": {
        "id": "zQJ5Mw8tHk3w"
      }
    },
    {
      "cell_type": "code",
      "source": [
        "# Escreva aqui o equivalente de:\n",
        "# criterion = torch.nn.CrossEntropyLoss()\n",
        "\n",
        "# deve fazer:\n",
        "# calcular a loss de acordo com a equação da cross entropy\n",
        "class CrossEntropyLoss:\n",
        "    def __init__(self):\n",
        "        self.loss = 0\n",
        "\n",
        "    def __call__(self,outputs, targets):   \n",
        "        exp_x = torch.exp(outputs)\n",
        "        sum_exp_x = torch.sum(exp_x, dim=1, keepdim=True)\n",
        "\n",
        "        batch_size = outputs.shape[0]\n",
        "        outputs = torch.log(exp_x/sum_exp_x)\n",
        "        outputs = outputs[range(batch_size), targets]\n",
        "\n",
        "        loss = -torch.sum(outputs)/batch_size\n",
        "        return loss\n",
        "\n",
        "criterion = CrossEntropyLoss()"
      ],
      "metadata": {
        "id": "mMpUXmV7E9gF"
      },
      "execution_count": null,
      "outputs": []
    },
    {
      "cell_type": "markdown",
      "source": [
        "# Definição do Optimizer"
      ],
      "metadata": {
        "id": "01BDueU2x4ox"
      }
    },
    {
      "cell_type": "code",
      "source": [
        "# Escreva aqui o equivalente de:\n",
        "# optimizer = torch.optim.SGD(model.parameters(), lr)\n",
        "\n",
        "# deve fazer:\n",
        "# atualizar os parâmetros da rede com o gradiente\n",
        "# aplicar zero_grad quando necessário\n",
        "\n",
        "class SGD():\n",
        "    def __init__(self, parameters, learning_rate: float):\n",
        "        self.parameters = parameters\n",
        "        self.learning_rate = learning_rate\n",
        "\n",
        "    def step(self):\n",
        "        for param in self.parameters:\n",
        "            param.data -= self.learning_rate * param.grad\n",
        "\n",
        "    def zero_grad(self):\n",
        "        for param in self.parameters:\n",
        "            param.grad = torch.zeros_like(param.data)\n",
        "\n",
        "optimizer = SGD(model.parameters(), lr)"
      ],
      "metadata": {
        "id": "tIlnR_Z8x85O"
      },
      "execution_count": null,
      "outputs": []
    },
    {
      "cell_type": "markdown",
      "metadata": {
        "id": "pmXarXeIQT2O"
      },
      "source": [
        "### Laço de treinamento dos parâmetros"
      ]
    },
    {
      "cell_type": "code",
      "metadata": {
        "ExecuteTime": {
          "end_time": "2018-08-20T21:03:40.796410Z",
          "start_time": "2018-08-20T21:03:39.771981Z"
        },
        "id": "L5T_jZZPQT2P",
        "colab": {
          "base_uri": "https://localhost:8080/"
        },
        "outputId": "82db6e85-3579-45bc-86a4-43e117daa565"
      },
      "source": [
        "epochs = []\n",
        "loss_history = []\n",
        "loss_epoch_end = []\n",
        "total_trained_samples = 0\n",
        "for i in range(n_epochs):\n",
        "    # Substitua aqui o loader_train de acordo com sua implementação do dataloader.\n",
        "    for x_train, y_train in loader_train:\n",
        "        # Transforma a entrada para uma dimensão\n",
        "        inputs = x_train.view(-1, 28 * 28)\n",
        "        # predict da rede\n",
        "        outputs = model(inputs)\n",
        "\n",
        "        # calcula a perda\n",
        "        loss = criterion(outputs, y_train)\n",
        "\n",
        "        # zero, backpropagation, ajusta parâmetros pelo gradiente descendente\n",
        "        # Escreva aqui o código cujo o resultado é equivalente às 3 linhas abaixo:\n",
        "        optimizer.zero_grad()\n",
        "        loss.backward()\n",
        "        optimizer.step()\n",
        "\n",
        "\n",
        "        total_trained_samples += x_train.size(0)\n",
        "        epochs.append(total_trained_samples / len(dataset_train))\n",
        "        loss_history.append(loss.item())\n",
        "\n",
        "    loss_epoch_end.append(loss.item())\n",
        "    print(f'Epoch: {i:d}/{n_epochs - 1:d} Loss: {loss.item()}')\n"
      ],
      "execution_count": null,
      "outputs": [
        {
          "output_type": "stream",
          "name": "stdout",
          "text": [
            "Epoch: 0/49 Loss: 1.1979684829711914\n",
            "Epoch: 1/49 Loss: 0.867622971534729\n",
            "Epoch: 2/49 Loss: 0.7226786017417908\n",
            "Epoch: 3/49 Loss: 0.6381281614303589\n",
            "Epoch: 4/49 Loss: 0.5809750556945801\n",
            "Epoch: 5/49 Loss: 0.5387411713600159\n",
            "Epoch: 6/49 Loss: 0.5056463479995728\n",
            "Epoch: 7/49 Loss: 0.4786270558834076\n",
            "Epoch: 8/49 Loss: 0.4558936655521393\n",
            "Epoch: 9/49 Loss: 0.43632185459136963\n",
            "Epoch: 10/49 Loss: 0.4191650152206421\n",
            "Epoch: 11/49 Loss: 0.4039044976234436\n",
            "Epoch: 12/49 Loss: 0.39016804099082947\n",
            "Epoch: 13/49 Loss: 0.3776799142360687\n",
            "Epoch: 14/49 Loss: 0.3662314713001251\n",
            "Epoch: 15/49 Loss: 0.35566139221191406\n",
            "Epoch: 16/49 Loss: 0.34584280848503113\n",
            "Epoch: 17/49 Loss: 0.33667415380477905\n",
            "Epoch: 18/49 Loss: 0.32807353138923645\n",
            "Epoch: 19/49 Loss: 0.31997358798980713\n",
            "Epoch: 20/49 Loss: 0.3123182952404022\n",
            "Epoch: 21/49 Loss: 0.30506113171577454\n",
            "Epoch: 22/49 Loss: 0.29816243052482605\n",
            "Epoch: 23/49 Loss: 0.29158854484558105\n",
            "Epoch: 24/49 Loss: 0.28531038761138916\n",
            "Epoch: 25/49 Loss: 0.27930301427841187\n",
            "Epoch: 26/49 Loss: 0.2735444903373718\n",
            "Epoch: 27/49 Loss: 0.2680158317089081\n",
            "Epoch: 28/49 Loss: 0.26270002126693726\n",
            "Epoch: 29/49 Loss: 0.2575823664665222\n",
            "Epoch: 30/49 Loss: 0.2526493966579437\n",
            "Epoch: 31/49 Loss: 0.24788932502269745\n",
            "Epoch: 32/49 Loss: 0.24329160153865814\n",
            "Epoch: 33/49 Loss: 0.23884662985801697\n",
            "Epoch: 34/49 Loss: 0.23454585671424866\n",
            "Epoch: 35/49 Loss: 0.23038139939308167\n",
            "Epoch: 36/49 Loss: 0.22634631395339966\n",
            "Epoch: 37/49 Loss: 0.22243396937847137\n",
            "Epoch: 38/49 Loss: 0.218638613820076\n",
            "Epoch: 39/49 Loss: 0.21495483815670013\n",
            "Epoch: 40/49 Loss: 0.2113776057958603\n",
            "Epoch: 41/49 Loss: 0.20790252089500427\n",
            "Epoch: 42/49 Loss: 0.20452524721622467\n",
            "Epoch: 43/49 Loss: 0.20124197006225586\n",
            "Epoch: 44/49 Loss: 0.19804897904396057\n",
            "Epoch: 45/49 Loss: 0.19494295120239258\n",
            "Epoch: 46/49 Loss: 0.1919206976890564\n",
            "Epoch: 47/49 Loss: 0.188979372382164\n",
            "Epoch: 48/49 Loss: 0.18611609935760498\n",
            "Epoch: 49/49 Loss: 0.1833283007144928\n"
          ]
        }
      ]
    },
    {
      "cell_type": "markdown",
      "metadata": {
        "id": "1dYK0nqsQT2U"
      },
      "source": [
        "### Visualizando gráfico de perda durante o treinamento"
      ]
    },
    {
      "cell_type": "code",
      "metadata": {
        "ExecuteTime": {
          "end_time": "2018-08-20T21:03:52.026752Z",
          "start_time": "2018-08-20T21:03:51.756518Z"
        },
        "id": "LIyUI6AHQT2V",
        "colab": {
          "base_uri": "https://localhost:8080/",
          "height": 298
        },
        "outputId": "4e62e86c-0600-4de5-bcc1-8c604e56fccd"
      },
      "source": [
        "plt.plot(epochs, loss_history)\n",
        "plt.xlabel('época')"
      ],
      "execution_count": null,
      "outputs": [
        {
          "output_type": "execute_result",
          "data": {
            "text/plain": [
              "Text(0.5, 0, 'época')"
            ]
          },
          "metadata": {},
          "execution_count": 45
        },
        {
          "output_type": "display_data",
          "data": {
            "text/plain": [
              "<Figure size 432x288 with 1 Axes>"
            ],
            "image/png": "[encoded data removed]"
          },
          "metadata": {
            "needs_background": "light"
          }
        }
      ]
    },
    {
      "cell_type": "markdown",
      "metadata": {
        "id": "rLL-GQlKQT2Y"
      },
      "source": [
        "### Visualização usual da perda, somente no final de cada minibatch"
      ]
    },
    {
      "cell_type": "code",
      "metadata": {
        "ExecuteTime": {
          "end_time": "2018-08-20T21:03:55.246851Z",
          "start_time": "2018-08-20T21:03:54.994428Z"
        },
        "id": "w38EtNxhQT2Z",
        "colab": {
          "base_uri": "https://localhost:8080/",
          "height": 298
        },
        "outputId": "cb71d434-15d7-47a8-c6dc-3272667e2012"
      },
      "source": [
        "n_batches_train = len(loader_train)\n",
        "plt.plot(epochs[::n_batches_train], loss_history[::n_batches_train])\n",
        "plt.xlabel('época')"
      ],
      "execution_count": null,
      "outputs": [
        {
          "output_type": "execute_result",
          "data": {
            "text/plain": [
              "Text(0.5, 0, 'época')"
            ]
          },
          "metadata": {},
          "execution_count": 46
        },
        {
          "output_type": "display_data",
          "data": {
            "text/plain": [
              "<Figure size 432x288 with 1 Axes>"
            ],
            "image/png": "[encoded data removed]"
          },
          "metadata": {
            "needs_background": "light"
          }
        }
      ]
    },
    {
      "cell_type": "code",
      "metadata": {
        "ExecuteTime": {
          "end_time": "2018-08-20T21:03:48.786969Z",
          "start_time": "2018-08-20T21:03:48.781787Z"
        },
        "id": "PiuMsjYtQT2R"
      },
      "source": [
        "# Assert do histórico de losses\n",
        "target_loss_epoch_end = np.array([\n",
        "    1.1979684829711914,\n",
        "    0.867622971534729,\n",
        "    0.7226786613464355,\n",
        "    0.6381281018257141,\n",
        "    0.5809749960899353,\n",
        "    0.5387411713600159,\n",
        "    0.5056464076042175,\n",
        "    0.4786270558834076,\n",
        "    0.4558936357498169,\n",
        "    0.4363219141960144,\n",
        "    0.4191650450229645,\n",
        "    0.4039044976234436,\n",
        "    0.3901679515838623,\n",
        "    0.3776799440383911,\n",
        "    0.3662314713001251,\n",
        "    0.35566139221191406,\n",
        "    0.34584277868270874,\n",
        "    0.33667415380477905,\n",
        "    0.32807353138923645,\n",
        "    0.31997355818748474,\n",
        "    0.312318354845047,\n",
        "    0.3050611615180969,\n",
        "    0.29816246032714844,\n",
        "    0.29158851504325867,\n",
        "    0.28531041741371155,\n",
        "    0.2793029546737671,\n",
        "    0.273544579744339,\n",
        "    0.2680158317089081,\n",
        "    0.26270008087158203,\n",
        "    0.2575823664665222,\n",
        "    0.25264936685562134,\n",
        "    0.24788929522037506,\n",
        "    0.24329163134098053,\n",
        "    0.23884665966033936,\n",
        "    0.23454584181308746,\n",
        "    0.23038141429424286,\n",
        "    0.22634628415107727,\n",
        "    0.22243399918079376,\n",
        "    0.2186385989189148,\n",
        "    0.21495483815670013,\n",
        "    0.21137762069702148,\n",
        "    0.20790249109268188,\n",
        "    0.20452524721622467,\n",
        "    0.20124195516109467,\n",
        "    0.19804897904396057,\n",
        "    0.1949428766965866,\n",
        "    0.19192075729370117,\n",
        "    0.188979372382164,\n",
        "    0.18611609935760498,\n",
        "    0.1833282858133316])\n",
        "\n",
        "assert np.allclose(np.array(loss_epoch_end), target_loss_epoch_end, atol=1e-6)"
      ],
      "execution_count": null,
      "outputs": []
    },
    {
      "cell_type": "markdown",
      "metadata": {
        "id": "fptnTktx_1rh"
      },
      "source": [
        "## Exercício \n",
        "\n",
        "Escreva um código que responda às seguintes perguntas:\n",
        "\n",
        "Qual é a amostra classificada corretamente, com maior probabilidade?\n",
        "\n",
        "Qual é a amostra classificada erradamente, com maior probabilidade?\n",
        "\n",
        "Qual é a amostra classificada corretamente, com menor probabilidade?\n",
        "\n",
        "Qual é a amostra classificada erradamente, com menor probabilidade?"
      ]
    },
    {
      "cell_type": "code",
      "source": [
        "from torchvision.transforms import functional"
      ],
      "metadata": {
        "id": "Y8BdKtLMSSc-"
      },
      "execution_count": null,
      "outputs": []
    },
    {
      "cell_type": "code",
      "metadata": {
        "id": "IzH8iMGt_1Rr"
      },
      "source": [
        "# Escreva o código aqui:\n",
        "x = []\n",
        "y = []\n",
        "y_preds = []\n",
        "\n",
        "for x_train, y_train in loader_train:\n",
        "    inputs = x_train.view(-1, 28 * 28)\n",
        "    y_pred = model(inputs)\n",
        "    x.append(x_train)\n",
        "    y.append(y_train)\n",
        "    y_preds.append(y_pred)\n",
        "\n",
        "x = torch.cat(x, 0)\n",
        "y = torch.cat(y, 0)\n",
        "y_preds = torch.cat(y_preds, 0)\n",
        "\n",
        "x_correct = x[y == y_preds.argmax(1)]\n",
        "y_correct = y[y == y_preds.argmax(1)]\n",
        "y_preds_correct = y_preds[y == y_preds.argmax(1)]\n",
        "\n",
        "x_wrong = x[y != y_preds.argmax(1)]\n",
        "y_wrong = y[y != y_preds.argmax(1)]\n",
        "y_preds_wrong = y_preds[y != y_preds.argmax(1)]\n",
        "\n",
        "idx_high_prob_correct = y_preds_correct.max(1).values.argmax()\n",
        "idx_lowest_prob_correct = y_preds_correct.max(1).values.argmin()\n",
        "\n",
        "idx_high_prob_wrong = y_preds_wrong.max(1).values.argmax()\n",
        "idx_lowest_prob_wrong = y_preds_wrong.max(1).values.argmin()"
      ],
      "execution_count": null,
      "outputs": []
    },
    {
      "cell_type": "code",
      "source": [
        "# Qual é a amostra classificada corretamente, com maior probabilidade?\n",
        "\n",
        "plt.imshow(functional.to_pil_image(x_correct[idx_high_prob_correct]), cmap='gray')\n",
        "print(f'Class: {y_preds_correct[idx_high_prob_correct].argmax().item()}')\n",
        "print(f'Probabilidade: {y_preds_correct[idx_high_prob_correct].max().item()}')"
      ],
      "metadata": {
        "colab": {
          "base_uri": "https://localhost:8080/",
          "height": 300
        },
        "id": "pPRyz0dZRoSZ",
        "outputId": "683986b1-b17c-43ea-ec44-d07b5f14b773"
      },
      "execution_count": null,
      "outputs": [
        {
          "output_type": "stream",
          "name": "stdout",
          "text": [
            "Class: 2\n",
            "Probabilidade: 14.52265453338623\n"
          ]
        },
        {
          "output_type": "display_data",
          "data": {
            "text/plain": [
              "<Figure size 432x288 with 1 Axes>"
            ],
            "image/png": "[encoded data removed]"
          },
          "metadata": {
            "needs_background": "light"
          }
        }
      ]
    },
    {
      "cell_type": "code",
      "source": [
        "# Qual é a amostra classificada erradamente, com maior probabilidade?\n",
        "\n",
        "plt.imshow(functional.to_pil_image(x_wrong[idx_high_prob_wrong]), cmap='gray')\n",
        "print(f'Class wrong: {y_preds_wrong[idx_high_prob_wrong].argmax().item()}')\n",
        "print(f'Probabilidade: {y_preds_wrong[idx_high_prob_wrong].max().item()}')"
      ],
      "metadata": {
        "colab": {
          "base_uri": "https://localhost:8080/",
          "height": 300
        },
        "id": "Zj5GMISISnKG",
        "outputId": "535d7b8f-2820-4200-98a5-aedec11399e3"
      },
      "execution_count": null,
      "outputs": [
        {
          "output_type": "stream",
          "name": "stdout",
          "text": [
            "Class wrong: 5\n",
            "Probabilidade: 6.9399847984313965\n"
          ]
        },
        {
          "output_type": "display_data",
          "data": {
            "text/plain": [
              "<Figure size 432x288 with 1 Axes>"
            ],
            "image/png": "[encoded data removed]"
          },
          "metadata": {
            "needs_background": "light"
          }
        }
      ]
    },
    {
      "cell_type": "code",
      "source": [
        "# Qual é a amostra classificada corretamente, com menor probabilidade?\n",
        "\n",
        "plt.imshow(functional.to_pil_image(x_correct[idx_lowest_prob_correct]), cmap='gray')\n",
        "print(f'class: {y_preds_correct[idx_lowest_prob_correct].argmax().item()}')\n",
        "print(f'probabilidade: {y_preds_correct[idx_lowest_prob_correct].max().item()}')"
      ],
      "metadata": {
        "colab": {
          "base_uri": "https://localhost:8080/",
          "height": 300
        },
        "id": "mbfyRHZZSpk0",
        "outputId": "7a65686f-40ac-456c-8d27-2d2a8ea02e01"
      },
      "execution_count": null,
      "outputs": [
        {
          "output_type": "stream",
          "name": "stdout",
          "text": [
            "class: 8\n",
            "probabilidade: 2.2115871906280518\n"
          ]
        },
        {
          "output_type": "display_data",
          "data": {
            "text/plain": [
              "<Figure size 432x288 with 1 Axes>"
            ],
            "image/png": "[encoded data removed]"
          },
          "metadata": {
            "needs_background": "light"
          }
        }
      ]
    },
    {
      "cell_type": "code",
      "source": [
        "# Qual é a amostra classificada erradamente, com menor probabilidade?\n",
        "\n",
        "plt.imshow(functional.to_pil_image(x_wrong[idx_lowest_prob_wrong]), cmap='gray')\n",
        "print(f'class: {y_preds_wrong[idx_lowest_prob_wrong].argmax().item()}')\n",
        "print(f'probabilidade {y_preds_wrong[idx_lowest_prob_wrong].max().item()}')"
      ],
      "metadata": {
        "colab": {
          "base_uri": "https://localhost:8080/",
          "height": 300
        },
        "id": "kcW9BjFpSrzE",
        "outputId": "766ccf30-7b69-470b-a6f6-cda996830831"
      },
      "execution_count": null,
      "outputs": [
        {
          "output_type": "stream",
          "name": "stdout",
          "text": [
            "class: 8\n",
            "probabilidade 1.7878608703613281\n"
          ]
        },
        {
          "output_type": "display_data",
          "data": {
            "text/plain": [
              "<Figure size 432x288 with 1 Axes>"
            ],
            "image/png": "[encoded data removed]"
          },
          "metadata": {
            "needs_background": "light"
          }
        }
      ]
    },
    {
      "cell_type": "markdown",
      "metadata": {
        "id": "0xmj1GWXUoNs"
      },
      "source": [
        "## Exercício Bonus\n",
        "\n",
        "Implemente um dataloader que aceite como parâmetro de entrada a distribuição probabilidade das classes que deverão compor um batch.\n",
        "Por exemplo, se a distribuição de probabilidade passada como entrada for:\n",
        "\n",
        "`[0.01, 0.01, 0.72, 0.2, 0.01, 0.01, 0.01, 0.01, 0.01, 0.01]`\n",
        "\n",
        "Em média, 72% dos exemplos do batch deverão ser da classe 2, 20% deverão ser da classe 3, e os demais deverão ser das outras classes.\n",
        "\n",
        "Mostre também que sua implementação está correta.\n"
      ]
    }
  ]
}