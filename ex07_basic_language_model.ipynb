{
  "nbformat": 4,
  "nbformat_minor": 0,
  "metadata": {
    "colab": {
      "name": "ex07_basic_language_model.ipynb",
      "provenance": [],
      "collapsed_sections": [],
      "include_colab_link": true
    },
    "kernelspec": {
      "name": "python3",
      "display_name": "Python 3"
    },
    "accelerator": "GPU",
    "widgets": {
      "application/vnd.jupyter.widget-state+json": {
        "bab30a1479954036a6e0cb718abd842c": {
          "model_module": "@jupyter-widgets/controls",
          "model_name": "HBoxModel",
          "model_module_version": "1.5.0",
          "state": {
            "_dom_classes": [],
            "_model_module": "@jupyter-widgets/controls",
            "_model_module_version": "1.5.0",
            "_model_name": "HBoxModel",
            "_view_count": null,
            "_view_module": "@jupyter-widgets/controls",
            "_view_module_version": "1.5.0",
            "_view_name": "HBoxView",
            "box_style": "",
            "children": [
              "IPY_MODEL_5f0594db53db4eb9bfdad62e5f695f53",
              "IPY_MODEL_0ed051fc39af4c059464a735f8aab8ff",
              "IPY_MODEL_2d5a6bb94888428686bfb64641704c73"
            ],
            "layout": "IPY_MODEL_8da21cee8947401aba2d318c4657d32b"
          }
        },
        "5f0594db53db4eb9bfdad62e5f695f53": {
          "model_module": "@jupyter-widgets/controls",
          "model_name": "HTMLModel",
          "model_module_version": "1.5.0",
          "state": {
            "_dom_classes": [],
            "_model_module": "@jupyter-widgets/controls",
            "_model_module_version": "1.5.0",
            "_model_name": "HTMLModel",
            "_view_count": null,
            "_view_module": "@jupyter-widgets/controls",
            "_view_module_version": "1.5.0",
            "_view_name": "HTMLView",
            "description": "",
            "description_tooltip": null,
            "layout": "IPY_MODEL_b1a4e3546c654422b599327327e30840",
            "placeholder": "​",
            "style": "IPY_MODEL_e4d516d737964576bb2622d9f77e7c45",
            "value": "Downloading: 100%"
          }
        },
        "0ed051fc39af4c059464a735f8aab8ff": {
          "model_module": "@jupyter-widgets/controls",
          "model_name": "FloatProgressModel",
          "model_module_version": "1.5.0",
          "state": {
            "_dom_classes": [],
            "_model_module": "@jupyter-widgets/controls",
            "_model_module_version": "1.5.0",
            "_model_name": "FloatProgressModel",
            "_view_count": null,
            "_view_module": "@jupyter-widgets/controls",
            "_view_module_version": "1.5.0",
            "_view_name": "ProgressView",
            "bar_style": "success",
            "description": "",
            "description_tooltip": null,
            "layout": "IPY_MODEL_25bbd7687f19425baeadad956206f065",
            "max": 209528,
            "min": 0,
            "orientation": "horizontal",
            "style": "IPY_MODEL_aa2cd855340746be8696af734c830f57",
            "value": 209528
          }
        },
        "2d5a6bb94888428686bfb64641704c73": {
          "model_module": "@jupyter-widgets/controls",
          "model_name": "HTMLModel",
          "model_module_version": "1.5.0",
          "state": {
            "_dom_classes": [],
            "_model_module": "@jupyter-widgets/controls",
            "_model_module_version": "1.5.0",
            "_model_name": "HTMLModel",
            "_view_count": null,
            "_view_module": "@jupyter-widgets/controls",
            "_view_module_version": "1.5.0",
            "_view_name": "HTMLView",
            "description": "",
            "description_tooltip": null,
            "layout": "IPY_MODEL_5d881ed83bbc4636b13f3931051c0952",
            "placeholder": "​",
            "style": "IPY_MODEL_bfda5d2fa7014b6d9b24ed8e6f23b111",
            "value": " 205k/205k [00:00&lt;00:00, 1.03MB/s]"
          }
        },
        "8da21cee8947401aba2d318c4657d32b": {
          "model_module": "@jupyter-widgets/base",
          "model_name": "LayoutModel",
          "model_module_version": "1.2.0",
          "state": {
            "_model_module": "@jupyter-widgets/base",
            "_model_module_version": "1.2.0",
            "_model_name": "LayoutModel",
            "_view_count": null,
            "_view_module": "@jupyter-widgets/base",
            "_view_module_version": "1.2.0",
            "_view_name": "LayoutView",
            "align_content": null,
            "align_items": null,
            "align_self": null,
            "border": null,
            "bottom": null,
            "display": null,
            "flex": null,
            "flex_flow": null,
            "grid_area": null,
            "grid_auto_columns": null,
            "grid_auto_flow": null,
            "grid_auto_rows": null,
            "grid_column": null,
            "grid_gap": null,
            "grid_row": null,
            "grid_template_areas": null,
            "grid_template_columns": null,
            "grid_template_rows": null,
            "height": null,
            "justify_content": null,
            "justify_items": null,
            "left": null,
            "margin": null,
            "max_height": null,
            "max_width": null,
            "min_height": null,
            "min_width": null,
            "object_fit": null,
            "object_position": null,
            "order": null,
            "overflow": null,
            "overflow_x": null,
            "overflow_y": null,
            "padding": null,
            "right": null,
            "top": null,
            "visibility": null,
            "width": null
          }
        },
        "b1a4e3546c654422b599327327e30840": {
          "model_module": "@jupyter-widgets/base",
          "model_name": "LayoutModel",
          "model_module_version": "1.2.0",
          "state": {
            "_model_module": "@jupyter-widgets/base",
            "_model_module_version": "1.2.0",
            "_model_name": "LayoutModel",
            "_view_count": null,
            "_view_module": "@jupyter-widgets/base",
            "_view_module_version": "1.2.0",
            "_view_name": "LayoutView",
            "align_content": null,
            "align_items": null,
            "align_self": null,
            "border": null,
            "bottom": null,
            "display": null,
            "flex": null,
            "flex_flow": null,
            "grid_area": null,
            "grid_auto_columns": null,
            "grid_auto_flow": null,
            "grid_auto_rows": null,
            "grid_column": null,
            "grid_gap": null,
            "grid_row": null,
            "grid_template_areas": null,
            "grid_template_columns": null,
            "grid_template_rows": null,
            "height": null,
            "justify_content": null,
            "justify_items": null,
            "left": null,
            "margin": null,
            "max_height": null,
            "max_width": null,
            "min_height": null,
            "min_width": null,
            "object_fit": null,
            "object_position": null,
            "order": null,
            "overflow": null,
            "overflow_x": null,
            "overflow_y": null,
            "padding": null,
            "right": null,
            "top": null,
            "visibility": null,
            "width": null
          }
        },
        "e4d516d737964576bb2622d9f77e7c45": {
          "model_module": "@jupyter-widgets/controls",
          "model_name": "DescriptionStyleModel",
          "model_module_version": "1.5.0",
          "state": {
            "_model_module": "@jupyter-widgets/controls",
            "_model_module_version": "1.5.0",
            "_model_name": "DescriptionStyleModel",
            "_view_count": null,
            "_view_module": "@jupyter-widgets/base",
            "_view_module_version": "1.2.0",
            "_view_name": "StyleView",
            "description_width": ""
          }
        },
        "25bbd7687f19425baeadad956206f065": {
          "model_module": "@jupyter-widgets/base",
          "model_name": "LayoutModel",
          "model_module_version": "1.2.0",
          "state": {
            "_model_module": "@jupyter-widgets/base",
            "_model_module_version": "1.2.0",
            "_model_name": "LayoutModel",
            "_view_count": null,
            "_view_module": "@jupyter-widgets/base",
            "_view_module_version": "1.2.0",
            "_view_name": "LayoutView",
            "align_content": null,
            "align_items": null,
            "align_self": null,
            "border": null,
            "bottom": null,
            "display": null,
            "flex": null,
            "flex_flow": null,
            "grid_area": null,
            "grid_auto_columns": null,
            "grid_auto_flow": null,
            "grid_auto_rows": null,
            "grid_column": null,
            "grid_gap": null,
            "grid_row": null,
            "grid_template_areas": null,
            "grid_template_columns": null,
            "grid_template_rows": null,
            "height": null,
            "justify_content": null,
            "justify_items": null,
            "left": null,
            "margin": null,
            "max_height": null,
            "max_width": null,
            "min_height": null,
            "min_width": null,
            "object_fit": null,
            "object_position": null,
            "order": null,
            "overflow": null,
            "overflow_x": null,
            "overflow_y": null,
            "padding": null,
            "right": null,
            "top": null,
            "visibility": null,
            "width": null
          }
        },
        "aa2cd855340746be8696af734c830f57": {
          "model_module": "@jupyter-widgets/controls",
          "model_name": "ProgressStyleModel",
          "model_module_version": "1.5.0",
          "state": {
            "_model_module": "@jupyter-widgets/controls",
            "_model_module_version": "1.5.0",
            "_model_name": "ProgressStyleModel",
            "_view_count": null,
            "_view_module": "@jupyter-widgets/base",
            "_view_module_version": "1.2.0",
            "_view_name": "StyleView",
            "bar_color": null,
            "description_width": ""
          }
        },
        "5d881ed83bbc4636b13f3931051c0952": {
          "model_module": "@jupyter-widgets/base",
          "model_name": "LayoutModel",
          "model_module_version": "1.2.0",
          "state": {
            "_model_module": "@jupyter-widgets/base",
            "_model_module_version": "1.2.0",
            "_model_name": "LayoutModel",
            "_view_count": null,
            "_view_module": "@jupyter-widgets/base",
            "_view_module_version": "1.2.0",
            "_view_name": "LayoutView",
            "align_content": null,
            "align_items": null,
            "align_self": null,
            "border": null,
            "bottom": null,
            "display": null,
            "flex": null,
            "flex_flow": null,
            "grid_area": null,
            "grid_auto_columns": null,
            "grid_auto_flow": null,
            "grid_auto_rows": null,
            "grid_column": null,
            "grid_gap": null,
            "grid_row": null,
            "grid_template_areas": null,
            "grid_template_columns": null,
            "grid_template_rows": null,
            "height": null,
            "justify_content": null,
            "justify_items": null,
            "left": null,
            "margin": null,
            "max_height": null,
            "max_width": null,
            "min_height": null,
            "min_width": null,
            "object_fit": null,
            "object_position": null,
            "order": null,
            "overflow": null,
            "overflow_x": null,
            "overflow_y": null,
            "padding": null,
            "right": null,
            "top": null,
            "visibility": null,
            "width": null
          }
        },
        "bfda5d2fa7014b6d9b24ed8e6f23b111": {
          "model_module": "@jupyter-widgets/controls",
          "model_name": "DescriptionStyleModel",
          "model_module_version": "1.5.0",
          "state": {
            "_model_module": "@jupyter-widgets/controls",
            "_model_module_version": "1.5.0",
            "_model_name": "DescriptionStyleModel",
            "_view_count": null,
            "_view_module": "@jupyter-widgets/base",
            "_view_module_version": "1.2.0",
            "_view_name": "StyleView",
            "description_width": ""
          }
        },
        "f33f772f3a934705bd47d641e9ca7019": {
          "model_module": "@jupyter-widgets/controls",
          "model_name": "HBoxModel",
          "model_module_version": "1.5.0",
          "state": {
            "_dom_classes": [],
            "_model_module": "@jupyter-widgets/controls",
            "_model_module_version": "1.5.0",
            "_model_name": "HBoxModel",
            "_view_count": null,
            "_view_module": "@jupyter-widgets/controls",
            "_view_module_version": "1.5.0",
            "_view_name": "HBoxView",
            "box_style": "",
            "children": [
              "IPY_MODEL_6b86300a78d945f5a34284c9a24d5774",
              "IPY_MODEL_a842d3edc0684379a5c5ae23c6f94359",
              "IPY_MODEL_8a73d56549af4705acdec5c946a6a688"
            ],
            "layout": "IPY_MODEL_122366a2a8a54677870dd718f074652f"
          }
        },
        "6b86300a78d945f5a34284c9a24d5774": {
          "model_module": "@jupyter-widgets/controls",
          "model_name": "HTMLModel",
          "model_module_version": "1.5.0",
          "state": {
            "_dom_classes": [],
            "_model_module": "@jupyter-widgets/controls",
            "_model_module_version": "1.5.0",
            "_model_name": "HTMLModel",
            "_view_count": null,
            "_view_module": "@jupyter-widgets/controls",
            "_view_module_version": "1.5.0",
            "_view_name": "HTMLView",
            "description": "",
            "description_tooltip": null,
            "layout": "IPY_MODEL_190a6fd81d9e44efa9b6cf571f8bf6c3",
            "placeholder": "​",
            "style": "IPY_MODEL_122bdc4dc37b495294b72b71b7dd2325",
            "value": "Downloading: 100%"
          }
        },
        "a842d3edc0684379a5c5ae23c6f94359": {
          "model_module": "@jupyter-widgets/controls",
          "model_name": "FloatProgressModel",
          "model_module_version": "1.5.0",
          "state": {
            "_dom_classes": [],
            "_model_module": "@jupyter-widgets/controls",
            "_model_module_version": "1.5.0",
            "_model_name": "FloatProgressModel",
            "_view_count": null,
            "_view_module": "@jupyter-widgets/controls",
            "_view_module_version": "1.5.0",
            "_view_name": "ProgressView",
            "bar_style": "success",
            "description": "",
            "description_tooltip": null,
            "layout": "IPY_MODEL_54af752e102e4bc9ac73f0be316c2341",
            "max": 2,
            "min": 0,
            "orientation": "horizontal",
            "style": "IPY_MODEL_a225cc7cdabd4bccacab5c27f39cdccd",
            "value": 2
          }
        },
        "8a73d56549af4705acdec5c946a6a688": {
          "model_module": "@jupyter-widgets/controls",
          "model_name": "HTMLModel",
          "model_module_version": "1.5.0",
          "state": {
            "_dom_classes": [],
            "_model_module": "@jupyter-widgets/controls",
            "_model_module_version": "1.5.0",
            "_model_name": "HTMLModel",
            "_view_count": null,
            "_view_module": "@jupyter-widgets/controls",
            "_view_module_version": "1.5.0",
            "_view_name": "HTMLView",
            "description": "",
            "description_tooltip": null,
            "layout": "IPY_MODEL_f489a1ce1b2a45a09609bface0a011d5",
            "placeholder": "​",
            "style": "IPY_MODEL_6c9511d8df6447e5a56881e07c2cc9a2",
            "value": " 2.00/2.00 [00:00&lt;00:00, 63.1B/s]"
          }
        },
        "122366a2a8a54677870dd718f074652f": {
          "model_module": "@jupyter-widgets/base",
          "model_name": "LayoutModel",
          "model_module_version": "1.2.0",
          "state": {
            "_model_module": "@jupyter-widgets/base",
            "_model_module_version": "1.2.0",
            "_model_name": "LayoutModel",
            "_view_count": null,
            "_view_module": "@jupyter-widgets/base",
            "_view_module_version": "1.2.0",
            "_view_name": "LayoutView",
            "align_content": null,
            "align_items": null,
            "align_self": null,
            "border": null,
            "bottom": null,
            "display": null,
            "flex": null,
            "flex_flow": null,
            "grid_area": null,
            "grid_auto_columns": null,
            "grid_auto_flow": null,
            "grid_auto_rows": null,
            "grid_column": null,
            "grid_gap": null,
            "grid_row": null,
            "grid_template_areas": null,
            "grid_template_columns": null,
            "grid_template_rows": null,
            "height": null,
            "justify_content": null,
            "justify_items": null,
            "left": null,
            "margin": null,
            "max_height": null,
            "max_width": null,
            "min_height": null,
            "min_width": null,
            "object_fit": null,
            "object_position": null,
            "order": null,
            "overflow": null,
            "overflow_x": null,
            "overflow_y": null,
            "padding": null,
            "right": null,
            "top": null,
            "visibility": null,
            "width": null
          }
        },
        "190a6fd81d9e44efa9b6cf571f8bf6c3": {
          "model_module": "@jupyter-widgets/base",
          "model_name": "LayoutModel",
          "model_module_version": "1.2.0",
          "state": {
            "_model_module": "@jupyter-widgets/base",
            "_model_module_version": "1.2.0",
            "_model_name": "LayoutModel",
            "_view_count": null,
            "_view_module": "@jupyter-widgets/base",
            "_view_module_version": "1.2.0",
            "_view_name": "LayoutView",
            "align_content": null,
            "align_items": null,
            "align_self": null,
            "border": null,
            "bottom": null,
            "display": null,
            "flex": null,
            "flex_flow": null,
            "grid_area": null,
            "grid_auto_columns": null,
            "grid_auto_flow": null,
            "grid_auto_rows": null,
            "grid_column": null,
            "grid_gap": null,
            "grid_row": null,
            "grid_template_areas": null,
            "grid_template_columns": null,
            "grid_template_rows": null,
            "height": null,
            "justify_content": null,
            "justify_items": null,
            "left": null,
            "margin": null,
            "max_height": null,
            "max_width": null,
            "min_height": null,
            "min_width": null,
            "object_fit": null,
            "object_position": null,
            "order": null,
            "overflow": null,
            "overflow_x": null,
            "overflow_y": null,
            "padding": null,
            "right": null,
            "top": null,
            "visibility": null,
            "width": null
          }
        },
        "122bdc4dc37b495294b72b71b7dd2325": {
          "model_module": "@jupyter-widgets/controls",
          "model_name": "DescriptionStyleModel",
          "model_module_version": "1.5.0",
          "state": {
            "_model_module": "@jupyter-widgets/controls",
            "_model_module_version": "1.5.0",
            "_model_name": "DescriptionStyleModel",
            "_view_count": null,
            "_view_module": "@jupyter-widgets/base",
            "_view_module_version": "1.2.0",
            "_view_name": "StyleView",
            "description_width": ""
          }
        },
        "54af752e102e4bc9ac73f0be316c2341": {
          "model_module": "@jupyter-widgets/base",
          "model_name": "LayoutModel",
          "model_module_version": "1.2.0",
          "state": {
            "_model_module": "@jupyter-widgets/base",
            "_model_module_version": "1.2.0",
            "_model_name": "LayoutModel",
            "_view_count": null,
            "_view_module": "@jupyter-widgets/base",
            "_view_module_version": "1.2.0",
            "_view_name": "LayoutView",
            "align_content": null,
            "align_items": null,
            "align_self": null,
            "border": null,
            "bottom": null,
            "display": null,
            "flex": null,
            "flex_flow": null,
            "grid_area": null,
            "grid_auto_columns": null,
            "grid_auto_flow": null,
            "grid_auto_rows": null,
            "grid_column": null,
            "grid_gap": null,
            "grid_row": null,
            "grid_template_areas": null,
            "grid_template_columns": null,
            "grid_template_rows": null,
            "height": null,
            "justify_content": null,
            "justify_items": null,
            "left": null,
            "margin": null,
            "max_height": null,
            "max_width": null,
            "min_height": null,
            "min_width": null,
            "object_fit": null,
            "object_position": null,
            "order": null,
            "overflow": null,
            "overflow_x": null,
            "overflow_y": null,
            "padding": null,
            "right": null,
            "top": null,
            "visibility": null,
            "width": null
          }
        },
        "a225cc7cdabd4bccacab5c27f39cdccd": {
          "model_module": "@jupyter-widgets/controls",
          "model_name": "ProgressStyleModel",
          "model_module_version": "1.5.0",
          "state": {
            "_model_module": "@jupyter-widgets/controls",
            "_model_module_version": "1.5.0",
            "_model_name": "ProgressStyleModel",
            "_view_count": null,
            "_view_module": "@jupyter-widgets/base",
            "_view_module_version": "1.2.0",
            "_view_name": "StyleView",
            "bar_color": null,
            "description_width": ""
          }
        },
        "f489a1ce1b2a45a09609bface0a011d5": {
          "model_module": "@jupyter-widgets/base",
          "model_name": "LayoutModel",
          "model_module_version": "1.2.0",
          "state": {
            "_model_module": "@jupyter-widgets/base",
            "_model_module_version": "1.2.0",
            "_model_name": "LayoutModel",
            "_view_count": null,
            "_view_module": "@jupyter-widgets/base",
            "_view_module_version": "1.2.0",
            "_view_name": "LayoutView",
            "align_content": null,
            "align_items": null,
            "align_self": null,
            "border": null,
            "bottom": null,
            "display": null,
            "flex": null,
            "flex_flow": null,
            "grid_area": null,
            "grid_auto_columns": null,
            "grid_auto_flow": null,
            "grid_auto_rows": null,
            "grid_column": null,
            "grid_gap": null,
            "grid_row": null,
            "grid_template_areas": null,
            "grid_template_columns": null,
            "grid_template_rows": null,
            "height": null,
            "justify_content": null,
            "justify_items": null,
            "left": null,
            "margin": null,
            "max_height": null,
            "max_width": null,
            "min_height": null,
            "min_width": null,
            "object_fit": null,
            "object_position": null,
            "order": null,
            "overflow": null,
            "overflow_x": null,
            "overflow_y": null,
            "padding": null,
            "right": null,
            "top": null,
            "visibility": null,
            "width": null
          }
        },
        "6c9511d8df6447e5a56881e07c2cc9a2": {
          "model_module": "@jupyter-widgets/controls",
          "model_name": "DescriptionStyleModel",
          "model_module_version": "1.5.0",
          "state": {
            "_model_module": "@jupyter-widgets/controls",
            "_model_module_version": "1.5.0",
            "_model_name": "DescriptionStyleModel",
            "_view_count": null,
            "_view_module": "@jupyter-widgets/base",
            "_view_module_version": "1.2.0",
            "_view_name": "StyleView",
            "description_width": ""
          }
        },
        "6ff6982ab05c455bbeeb79ea9b11f979": {
          "model_module": "@jupyter-widgets/controls",
          "model_name": "HBoxModel",
          "model_module_version": "1.5.0",
          "state": {
            "_dom_classes": [],
            "_model_module": "@jupyter-widgets/controls",
            "_model_module_version": "1.5.0",
            "_model_name": "HBoxModel",
            "_view_count": null,
            "_view_module": "@jupyter-widgets/controls",
            "_view_module_version": "1.5.0",
            "_view_name": "HBoxView",
            "box_style": "",
            "children": [
              "IPY_MODEL_fb8902b9b1da4a5b82490998b609709f",
              "IPY_MODEL_c315bae4f6584e55ba2d10f5488053f8",
              "IPY_MODEL_f488341255e74e43bb734c47fc5b7fc6"
            ],
            "layout": "IPY_MODEL_a70236437a094faa9fda6a2d6a199d0a"
          }
        },
        "fb8902b9b1da4a5b82490998b609709f": {
          "model_module": "@jupyter-widgets/controls",
          "model_name": "HTMLModel",
          "model_module_version": "1.5.0",
          "state": {
            "_dom_classes": [],
            "_model_module": "@jupyter-widgets/controls",
            "_model_module_version": "1.5.0",
            "_model_name": "HTMLModel",
            "_view_count": null,
            "_view_module": "@jupyter-widgets/controls",
            "_view_module_version": "1.5.0",
            "_view_name": "HTMLView",
            "description": "",
            "description_tooltip": null,
            "layout": "IPY_MODEL_efc5b07af66c4e4c9a9057b7071989bb",
            "placeholder": "​",
            "style": "IPY_MODEL_04fafe3df29240c680eaf88cd8f1c62b",
            "value": "Downloading: 100%"
          }
        },
        "c315bae4f6584e55ba2d10f5488053f8": {
          "model_module": "@jupyter-widgets/controls",
          "model_name": "FloatProgressModel",
          "model_module_version": "1.5.0",
          "state": {
            "_dom_classes": [],
            "_model_module": "@jupyter-widgets/controls",
            "_model_module_version": "1.5.0",
            "_model_name": "FloatProgressModel",
            "_view_count": null,
            "_view_module": "@jupyter-widgets/controls",
            "_view_module_version": "1.5.0",
            "_view_name": "ProgressView",
            "bar_style": "success",
            "description": "",
            "description_tooltip": null,
            "layout": "IPY_MODEL_9b785648c1574a50ac931c16705e14c7",
            "max": 112,
            "min": 0,
            "orientation": "horizontal",
            "style": "IPY_MODEL_62e3c50647eb46ebabed8bfbdcd75e55",
            "value": 112
          }
        },
        "f488341255e74e43bb734c47fc5b7fc6": {
          "model_module": "@jupyter-widgets/controls",
          "model_name": "HTMLModel",
          "model_module_version": "1.5.0",
          "state": {
            "_dom_classes": [],
            "_model_module": "@jupyter-widgets/controls",
            "_model_module_version": "1.5.0",
            "_model_name": "HTMLModel",
            "_view_count": null,
            "_view_module": "@jupyter-widgets/controls",
            "_view_module_version": "1.5.0",
            "_view_name": "HTMLView",
            "description": "",
            "description_tooltip": null,
            "layout": "IPY_MODEL_4a1951ec5423426c87379fa24dd26703",
            "placeholder": "​",
            "style": "IPY_MODEL_3dd79a79cfc64ab3b9d2378c242c0363",
            "value": " 112/112 [00:00&lt;00:00, 2.95kB/s]"
          }
        },
        "a70236437a094faa9fda6a2d6a199d0a": {
          "model_module": "@jupyter-widgets/base",
          "model_name": "LayoutModel",
          "model_module_version": "1.2.0",
          "state": {
            "_model_module": "@jupyter-widgets/base",
            "_model_module_version": "1.2.0",
            "_model_name": "LayoutModel",
            "_view_count": null,
            "_view_module": "@jupyter-widgets/base",
            "_view_module_version": "1.2.0",
            "_view_name": "LayoutView",
            "align_content": null,
            "align_items": null,
            "align_self": null,
            "border": null,
            "bottom": null,
            "display": null,
            "flex": null,
            "flex_flow": null,
            "grid_area": null,
            "grid_auto_columns": null,
            "grid_auto_flow": null,
            "grid_auto_rows": null,
            "grid_column": null,
            "grid_gap": null,
            "grid_row": null,
            "grid_template_areas": null,
            "grid_template_columns": null,
            "grid_template_rows": null,
            "height": null,
            "justify_content": null,
            "justify_items": null,
            "left": null,
            "margin": null,
            "max_height": null,
            "max_width": null,
            "min_height": null,
            "min_width": null,
            "object_fit": null,
            "object_position": null,
            "order": null,
            "overflow": null,
            "overflow_x": null,
            "overflow_y": null,
            "padding": null,
            "right": null,
            "top": null,
            "visibility": null,
            "width": null
          }
        },
        "efc5b07af66c4e4c9a9057b7071989bb": {
          "model_module": "@jupyter-widgets/base",
          "model_name": "LayoutModel",
          "model_module_version": "1.2.0",
          "state": {
            "_model_module": "@jupyter-widgets/base",
            "_model_module_version": "1.2.0",
            "_model_name": "LayoutModel",
            "_view_count": null,
            "_view_module": "@jupyter-widgets/base",
            "_view_module_version": "1.2.0",
            "_view_name": "LayoutView",
            "align_content": null,
            "align_items": null,
            "align_self": null,
            "border": null,
            "bottom": null,
            "display": null,
            "flex": null,
            "flex_flow": null,
            "grid_area": null,
            "grid_auto_columns": null,
            "grid_auto_flow": null,
            "grid_auto_rows": null,
            "grid_column": null,
            "grid_gap": null,
            "grid_row": null,
            "grid_template_areas": null,
            "grid_template_columns": null,
            "grid_template_rows": null,
            "height": null,
            "justify_content": null,
            "justify_items": null,
            "left": null,
            "margin": null,
            "max_height": null,
            "max_width": null,
            "min_height": null,
            "min_width": null,
            "object_fit": null,
            "object_position": null,
            "order": null,
            "overflow": null,
            "overflow_x": null,
            "overflow_y": null,
            "padding": null,
            "right": null,
            "top": null,
            "visibility": null,
            "width": null
          }
        },
        "04fafe3df29240c680eaf88cd8f1c62b": {
          "model_module": "@jupyter-widgets/controls",
          "model_name": "DescriptionStyleModel",
          "model_module_version": "1.5.0",
          "state": {
            "_model_module": "@jupyter-widgets/controls",
            "_model_module_version": "1.5.0",
            "_model_name": "DescriptionStyleModel",
            "_view_count": null,
            "_view_module": "@jupyter-widgets/base",
            "_view_module_version": "1.2.0",
            "_view_name": "StyleView",
            "description_width": ""
          }
        },
        "9b785648c1574a50ac931c16705e14c7": {
          "model_module": "@jupyter-widgets/base",
          "model_name": "LayoutModel",
          "model_module_version": "1.2.0",
          "state": {
            "_model_module": "@jupyter-widgets/base",
            "_model_module_version": "1.2.0",
            "_model_name": "LayoutModel",
            "_view_count": null,
            "_view_module": "@jupyter-widgets/base",
            "_view_module_version": "1.2.0",
            "_view_name": "LayoutView",
            "align_content": null,
            "align_items": null,
            "align_self": null,
            "border": null,
            "bottom": null,
            "display": null,
            "flex": null,
            "flex_flow": null,
            "grid_area": null,
            "grid_auto_columns": null,
            "grid_auto_flow": null,
            "grid_auto_rows": null,
            "grid_column": null,
            "grid_gap": null,
            "grid_row": null,
            "grid_template_areas": null,
            "grid_template_columns": null,
            "grid_template_rows": null,
            "height": null,
            "justify_content": null,
            "justify_items": null,
            "left": null,
            "margin": null,
            "max_height": null,
            "max_width": null,
            "min_height": null,
            "min_width": null,
            "object_fit": null,
            "object_position": null,
            "order": null,
            "overflow": null,
            "overflow_x": null,
            "overflow_y": null,
            "padding": null,
            "right": null,
            "top": null,
            "visibility": null,
            "width": null
          }
        },
        "62e3c50647eb46ebabed8bfbdcd75e55": {
          "model_module": "@jupyter-widgets/controls",
          "model_name": "ProgressStyleModel",
          "model_module_version": "1.5.0",
          "state": {
            "_model_module": "@jupyter-widgets/controls",
            "_model_module_version": "1.5.0",
            "_model_name": "ProgressStyleModel",
            "_view_count": null,
            "_view_module": "@jupyter-widgets/base",
            "_view_module_version": "1.2.0",
            "_view_name": "StyleView",
            "bar_color": null,
            "description_width": ""
          }
        },
        "4a1951ec5423426c87379fa24dd26703": {
          "model_module": "@jupyter-widgets/base",
          "model_name": "LayoutModel",
          "model_module_version": "1.2.0",
          "state": {
            "_model_module": "@jupyter-widgets/base",
            "_model_module_version": "1.2.0",
            "_model_name": "LayoutModel",
            "_view_count": null,
            "_view_module": "@jupyter-widgets/base",
            "_view_module_version": "1.2.0",
            "_view_name": "LayoutView",
            "align_content": null,
            "align_items": null,
            "align_self": null,
            "border": null,
            "bottom": null,
            "display": null,
            "flex": null,
            "flex_flow": null,
            "grid_area": null,
            "grid_auto_columns": null,
            "grid_auto_flow": null,
            "grid_auto_rows": null,
            "grid_column": null,
            "grid_gap": null,
            "grid_row": null,
            "grid_template_areas": null,
            "grid_template_columns": null,
            "grid_template_rows": null,
            "height": null,
            "justify_content": null,
            "justify_items": null,
            "left": null,
            "margin": null,
            "max_height": null,
            "max_width": null,
            "min_height": null,
            "min_width": null,
            "object_fit": null,
            "object_position": null,
            "order": null,
            "overflow": null,
            "overflow_x": null,
            "overflow_y": null,
            "padding": null,
            "right": null,
            "top": null,
            "visibility": null,
            "width": null
          }
        },
        "3dd79a79cfc64ab3b9d2378c242c0363": {
          "model_module": "@jupyter-widgets/controls",
          "model_name": "DescriptionStyleModel",
          "model_module_version": "1.5.0",
          "state": {
            "_model_module": "@jupyter-widgets/controls",
            "_model_module_version": "1.5.0",
            "_model_name": "DescriptionStyleModel",
            "_view_count": null,
            "_view_module": "@jupyter-widgets/base",
            "_view_module_version": "1.2.0",
            "_view_name": "StyleView",
            "description_width": ""
          }
        },
        "fcc8ae1ea2ea421c80b8478b54a105f9": {
          "model_module": "@jupyter-widgets/controls",
          "model_name": "HBoxModel",
          "model_module_version": "1.5.0",
          "state": {
            "_dom_classes": [],
            "_model_module": "@jupyter-widgets/controls",
            "_model_module_version": "1.5.0",
            "_model_name": "HBoxModel",
            "_view_count": null,
            "_view_module": "@jupyter-widgets/controls",
            "_view_module_version": "1.5.0",
            "_view_name": "HBoxView",
            "box_style": "",
            "children": [
              "IPY_MODEL_3e786f5c0d4d49e1a190ebb92f05b9dc",
              "IPY_MODEL_6bcbecc0bd09425e8daf3cbd6928e91f",
              "IPY_MODEL_d73540dbe5a4490f9dfd4a880e13322a"
            ],
            "layout": "IPY_MODEL_35ef1b6dfb874166ae70c6a65079dfdb"
          }
        },
        "3e786f5c0d4d49e1a190ebb92f05b9dc": {
          "model_module": "@jupyter-widgets/controls",
          "model_name": "HTMLModel",
          "model_module_version": "1.5.0",
          "state": {
            "_dom_classes": [],
            "_model_module": "@jupyter-widgets/controls",
            "_model_module_version": "1.5.0",
            "_model_name": "HTMLModel",
            "_view_count": null,
            "_view_module": "@jupyter-widgets/controls",
            "_view_module_version": "1.5.0",
            "_view_name": "HTMLView",
            "description": "",
            "description_tooltip": null,
            "layout": "IPY_MODEL_c8a726d8c5334bfca518cc5ee155bbd7",
            "placeholder": "​",
            "style": "IPY_MODEL_eedd318294ff46639999e5f65f5efd4a",
            "value": "Downloading: 100%"
          }
        },
        "6bcbecc0bd09425e8daf3cbd6928e91f": {
          "model_module": "@jupyter-widgets/controls",
          "model_name": "FloatProgressModel",
          "model_module_version": "1.5.0",
          "state": {
            "_dom_classes": [],
            "_model_module": "@jupyter-widgets/controls",
            "_model_module_version": "1.5.0",
            "_model_name": "FloatProgressModel",
            "_view_count": null,
            "_view_module": "@jupyter-widgets/controls",
            "_view_module_version": "1.5.0",
            "_view_name": "ProgressView",
            "bar_style": "success",
            "description": "",
            "description_tooltip": null,
            "layout": "IPY_MODEL_02a0655f54d44b778e9c4716af72cde0",
            "max": 43,
            "min": 0,
            "orientation": "horizontal",
            "style": "IPY_MODEL_fb1aa02fc02148e492205df8424b89ca",
            "value": 43
          }
        },
        "d73540dbe5a4490f9dfd4a880e13322a": {
          "model_module": "@jupyter-widgets/controls",
          "model_name": "HTMLModel",
          "model_module_version": "1.5.0",
          "state": {
            "_dom_classes": [],
            "_model_module": "@jupyter-widgets/controls",
            "_model_module_version": "1.5.0",
            "_model_name": "HTMLModel",
            "_view_count": null,
            "_view_module": "@jupyter-widgets/controls",
            "_view_module_version": "1.5.0",
            "_view_name": "HTMLView",
            "description": "",
            "description_tooltip": null,
            "layout": "IPY_MODEL_cc6a21fb422c4a7792722e2b8839b91c",
            "placeholder": "​",
            "style": "IPY_MODEL_cb23df0245614e74aef2a0ab4156234e",
            "value": " 43.0/43.0 [00:00&lt;00:00, 1.35kB/s]"
          }
        },
        "35ef1b6dfb874166ae70c6a65079dfdb": {
          "model_module": "@jupyter-widgets/base",
          "model_name": "LayoutModel",
          "model_module_version": "1.2.0",
          "state": {
            "_model_module": "@jupyter-widgets/base",
            "_model_module_version": "1.2.0",
            "_model_name": "LayoutModel",
            "_view_count": null,
            "_view_module": "@jupyter-widgets/base",
            "_view_module_version": "1.2.0",
            "_view_name": "LayoutView",
            "align_content": null,
            "align_items": null,
            "align_self": null,
            "border": null,
            "bottom": null,
            "display": null,
            "flex": null,
            "flex_flow": null,
            "grid_area": null,
            "grid_auto_columns": null,
            "grid_auto_flow": null,
            "grid_auto_rows": null,
            "grid_column": null,
            "grid_gap": null,
            "grid_row": null,
            "grid_template_areas": null,
            "grid_template_columns": null,
            "grid_template_rows": null,
            "height": null,
            "justify_content": null,
            "justify_items": null,
            "left": null,
            "margin": null,
            "max_height": null,
            "max_width": null,
            "min_height": null,
            "min_width": null,
            "object_fit": null,
            "object_position": null,
            "order": null,
            "overflow": null,
            "overflow_x": null,
            "overflow_y": null,
            "padding": null,
            "right": null,
            "top": null,
            "visibility": null,
            "width": null
          }
        },
        "c8a726d8c5334bfca518cc5ee155bbd7": {
          "model_module": "@jupyter-widgets/base",
          "model_name": "LayoutModel",
          "model_module_version": "1.2.0",
          "state": {
            "_model_module": "@jupyter-widgets/base",
            "_model_module_version": "1.2.0",
            "_model_name": "LayoutModel",
            "_view_count": null,
            "_view_module": "@jupyter-widgets/base",
            "_view_module_version": "1.2.0",
            "_view_name": "LayoutView",
            "align_content": null,
            "align_items": null,
            "align_self": null,
            "border": null,
            "bottom": null,
            "display": null,
            "flex": null,
            "flex_flow": null,
            "grid_area": null,
            "grid_auto_columns": null,
            "grid_auto_flow": null,
            "grid_auto_rows": null,
            "grid_column": null,
            "grid_gap": null,
            "grid_row": null,
            "grid_template_areas": null,
            "grid_template_columns": null,
            "grid_template_rows": null,
            "height": null,
            "justify_content": null,
            "justify_items": null,
            "left": null,
            "margin": null,
            "max_height": null,
            "max_width": null,
            "min_height": null,
            "min_width": null,
            "object_fit": null,
            "object_position": null,
            "order": null,
            "overflow": null,
            "overflow_x": null,
            "overflow_y": null,
            "padding": null,
            "right": null,
            "top": null,
            "visibility": null,
            "width": null
          }
        },
        "eedd318294ff46639999e5f65f5efd4a": {
          "model_module": "@jupyter-widgets/controls",
          "model_name": "DescriptionStyleModel",
          "model_module_version": "1.5.0",
          "state": {
            "_model_module": "@jupyter-widgets/controls",
            "_model_module_version": "1.5.0",
            "_model_name": "DescriptionStyleModel",
            "_view_count": null,
            "_view_module": "@jupyter-widgets/base",
            "_view_module_version": "1.2.0",
            "_view_name": "StyleView",
            "description_width": ""
          }
        },
        "02a0655f54d44b778e9c4716af72cde0": {
          "model_module": "@jupyter-widgets/base",
          "model_name": "LayoutModel",
          "model_module_version": "1.2.0",
          "state": {
            "_model_module": "@jupyter-widgets/base",
            "_model_module_version": "1.2.0",
            "_model_name": "LayoutModel",
            "_view_count": null,
            "_view_module": "@jupyter-widgets/base",
            "_view_module_version": "1.2.0",
            "_view_name": "LayoutView",
            "align_content": null,
            "align_items": null,
            "align_self": null,
            "border": null,
            "bottom": null,
            "display": null,
            "flex": null,
            "flex_flow": null,
            "grid_area": null,
            "grid_auto_columns": null,
            "grid_auto_flow": null,
            "grid_auto_rows": null,
            "grid_column": null,
            "grid_gap": null,
            "grid_row": null,
            "grid_template_areas": null,
            "grid_template_columns": null,
            "grid_template_rows": null,
            "height": null,
            "justify_content": null,
            "justify_items": null,
            "left": null,
            "margin": null,
            "max_height": null,
            "max_width": null,
            "min_height": null,
            "min_width": null,
            "object_fit": null,
            "object_position": null,
            "order": null,
            "overflow": null,
            "overflow_x": null,
            "overflow_y": null,
            "padding": null,
            "right": null,
            "top": null,
            "visibility": null,
            "width": null
          }
        },
        "fb1aa02fc02148e492205df8424b89ca": {
          "model_module": "@jupyter-widgets/controls",
          "model_name": "ProgressStyleModel",
          "model_module_version": "1.5.0",
          "state": {
            "_model_module": "@jupyter-widgets/controls",
            "_model_module_version": "1.5.0",
            "_model_name": "ProgressStyleModel",
            "_view_count": null,
            "_view_module": "@jupyter-widgets/base",
            "_view_module_version": "1.2.0",
            "_view_name": "StyleView",
            "bar_color": null,
            "description_width": ""
          }
        },
        "cc6a21fb422c4a7792722e2b8839b91c": {
          "model_module": "@jupyter-widgets/base",
          "model_name": "LayoutModel",
          "model_module_version": "1.2.0",
          "state": {
            "_model_module": "@jupyter-widgets/base",
            "_model_module_version": "1.2.0",
            "_model_name": "LayoutModel",
            "_view_count": null,
            "_view_module": "@jupyter-widgets/base",
            "_view_module_version": "1.2.0",
            "_view_name": "LayoutView",
            "align_content": null,
            "align_items": null,
            "align_self": null,
            "border": null,
            "bottom": null,
            "display": null,
            "flex": null,
            "flex_flow": null,
            "grid_area": null,
            "grid_auto_columns": null,
            "grid_auto_flow": null,
            "grid_auto_rows": null,
            "grid_column": null,
            "grid_gap": null,
            "grid_row": null,
            "grid_template_areas": null,
            "grid_template_columns": null,
            "grid_template_rows": null,
            "height": null,
            "justify_content": null,
            "justify_items": null,
            "left": null,
            "margin": null,
            "max_height": null,
            "max_width": null,
            "min_height": null,
            "min_width": null,
            "object_fit": null,
            "object_position": null,
            "order": null,
            "overflow": null,
            "overflow_x": null,
            "overflow_y": null,
            "padding": null,
            "right": null,
            "top": null,
            "visibility": null,
            "width": null
          }
        },
        "cb23df0245614e74aef2a0ab4156234e": {
          "model_module": "@jupyter-widgets/controls",
          "model_name": "DescriptionStyleModel",
          "model_module_version": "1.5.0",
          "state": {
            "_model_module": "@jupyter-widgets/controls",
            "_model_module_version": "1.5.0",
            "_model_name": "DescriptionStyleModel",
            "_view_count": null,
            "_view_module": "@jupyter-widgets/base",
            "_view_module_version": "1.2.0",
            "_view_name": "StyleView",
            "description_width": ""
          }
        },
        "f12c14f36a004d2283c72b3e011f2dc9": {
          "model_module": "@jupyter-widgets/controls",
          "model_name": "HBoxModel",
          "model_module_version": "1.5.0",
          "state": {
            "_dom_classes": [],
            "_model_module": "@jupyter-widgets/controls",
            "_model_module_version": "1.5.0",
            "_model_name": "HBoxModel",
            "_view_count": null,
            "_view_module": "@jupyter-widgets/controls",
            "_view_module_version": "1.5.0",
            "_view_name": "HBoxView",
            "box_style": "",
            "children": [
              "IPY_MODEL_fcb523dc05fb4820b568a99d1b1accc1",
              "IPY_MODEL_8c014999c78f46f290df89dff711d40a",
              "IPY_MODEL_fd0ded17f28e48578de76628a12bc583"
            ],
            "layout": "IPY_MODEL_f6432a399a244af189e539f2b6f58999"
          }
        },
        "fcb523dc05fb4820b568a99d1b1accc1": {
          "model_module": "@jupyter-widgets/controls",
          "model_name": "HTMLModel",
          "model_module_version": "1.5.0",
          "state": {
            "_dom_classes": [],
            "_model_module": "@jupyter-widgets/controls",
            "_model_module_version": "1.5.0",
            "_model_name": "HTMLModel",
            "_view_count": null,
            "_view_module": "@jupyter-widgets/controls",
            "_view_module_version": "1.5.0",
            "_view_name": "HTMLView",
            "description": "",
            "description_tooltip": null,
            "layout": "IPY_MODEL_6a61e4e2a7cf47f7b134d292e37c33ea",
            "placeholder": "​",
            "style": "IPY_MODEL_1a6ffc9840c84eb4b9e3ff15ed81807b",
            "value": "Downloading: 100%"
          }
        },
        "8c014999c78f46f290df89dff711d40a": {
          "model_module": "@jupyter-widgets/controls",
          "model_name": "FloatProgressModel",
          "model_module_version": "1.5.0",
          "state": {
            "_dom_classes": [],
            "_model_module": "@jupyter-widgets/controls",
            "_model_module_version": "1.5.0",
            "_model_name": "FloatProgressModel",
            "_view_count": null,
            "_view_module": "@jupyter-widgets/controls",
            "_view_module_version": "1.5.0",
            "_view_name": "ProgressView",
            "bar_style": "success",
            "description": "",
            "description_tooltip": null,
            "layout": "IPY_MODEL_6716ca1c02a646698bc4b4154a48f6ef",
            "max": 647,
            "min": 0,
            "orientation": "horizontal",
            "style": "IPY_MODEL_653000e94af5461aa808de3296bd66fe",
            "value": 647
          }
        },
        "fd0ded17f28e48578de76628a12bc583": {
          "model_module": "@jupyter-widgets/controls",
          "model_name": "HTMLModel",
          "model_module_version": "1.5.0",
          "state": {
            "_dom_classes": [],
            "_model_module": "@jupyter-widgets/controls",
            "_model_module_version": "1.5.0",
            "_model_name": "HTMLModel",
            "_view_count": null,
            "_view_module": "@jupyter-widgets/controls",
            "_view_module_version": "1.5.0",
            "_view_name": "HTMLView",
            "description": "",
            "description_tooltip": null,
            "layout": "IPY_MODEL_ed495684a84f469f9890b97987ffa42e",
            "placeholder": "​",
            "style": "IPY_MODEL_768ae19b2e244cfe94a458460680204d",
            "value": " 647/647 [00:00&lt;00:00, 19.5kB/s]"
          }
        },
        "f6432a399a244af189e539f2b6f58999": {
          "model_module": "@jupyter-widgets/base",
          "model_name": "LayoutModel",
          "model_module_version": "1.2.0",
          "state": {
            "_model_module": "@jupyter-widgets/base",
            "_model_module_version": "1.2.0",
            "_model_name": "LayoutModel",
            "_view_count": null,
            "_view_module": "@jupyter-widgets/base",
            "_view_module_version": "1.2.0",
            "_view_name": "LayoutView",
            "align_content": null,
            "align_items": null,
            "align_self": null,
            "border": null,
            "bottom": null,
            "display": null,
            "flex": null,
            "flex_flow": null,
            "grid_area": null,
            "grid_auto_columns": null,
            "grid_auto_flow": null,
            "grid_auto_rows": null,
            "grid_column": null,
            "grid_gap": null,
            "grid_row": null,
            "grid_template_areas": null,
            "grid_template_columns": null,
            "grid_template_rows": null,
            "height": null,
            "justify_content": null,
            "justify_items": null,
            "left": null,
            "margin": null,
            "max_height": null,
            "max_width": null,
            "min_height": null,
            "min_width": null,
            "object_fit": null,
            "object_position": null,
            "order": null,
            "overflow": null,
            "overflow_x": null,
            "overflow_y": null,
            "padding": null,
            "right": null,
            "top": null,
            "visibility": null,
            "width": null
          }
        },
        "6a61e4e2a7cf47f7b134d292e37c33ea": {
          "model_module": "@jupyter-widgets/base",
          "model_name": "LayoutModel",
          "model_module_version": "1.2.0",
          "state": {
            "_model_module": "@jupyter-widgets/base",
            "_model_module_version": "1.2.0",
            "_model_name": "LayoutModel",
            "_view_count": null,
            "_view_module": "@jupyter-widgets/base",
            "_view_module_version": "1.2.0",
            "_view_name": "LayoutView",
            "align_content": null,
            "align_items": null,
            "align_self": null,
            "border": null,
            "bottom": null,
            "display": null,
            "flex": null,
            "flex_flow": null,
            "grid_area": null,
            "grid_auto_columns": null,
            "grid_auto_flow": null,
            "grid_auto_rows": null,
            "grid_column": null,
            "grid_gap": null,
            "grid_row": null,
            "grid_template_areas": null,
            "grid_template_columns": null,
            "grid_template_rows": null,
            "height": null,
            "justify_content": null,
            "justify_items": null,
            "left": null,
            "margin": null,
            "max_height": null,
            "max_width": null,
            "min_height": null,
            "min_width": null,
            "object_fit": null,
            "object_position": null,
            "order": null,
            "overflow": null,
            "overflow_x": null,
            "overflow_y": null,
            "padding": null,
            "right": null,
            "top": null,
            "visibility": null,
            "width": null
          }
        },
        "1a6ffc9840c84eb4b9e3ff15ed81807b": {
          "model_module": "@jupyter-widgets/controls",
          "model_name": "DescriptionStyleModel",
          "model_module_version": "1.5.0",
          "state": {
            "_model_module": "@jupyter-widgets/controls",
            "_model_module_version": "1.5.0",
            "_model_name": "DescriptionStyleModel",
            "_view_count": null,
            "_view_module": "@jupyter-widgets/base",
            "_view_module_version": "1.2.0",
            "_view_name": "StyleView",
            "description_width": ""
          }
        },
        "6716ca1c02a646698bc4b4154a48f6ef": {
          "model_module": "@jupyter-widgets/base",
          "model_name": "LayoutModel",
          "model_module_version": "1.2.0",
          "state": {
            "_model_module": "@jupyter-widgets/base",
            "_model_module_version": "1.2.0",
            "_model_name": "LayoutModel",
            "_view_count": null,
            "_view_module": "@jupyter-widgets/base",
            "_view_module_version": "1.2.0",
            "_view_name": "LayoutView",
            "align_content": null,
            "align_items": null,
            "align_self": null,
            "border": null,
            "bottom": null,
            "display": null,
            "flex": null,
            "flex_flow": null,
            "grid_area": null,
            "grid_auto_columns": null,
            "grid_auto_flow": null,
            "grid_auto_rows": null,
            "grid_column": null,
            "grid_gap": null,
            "grid_row": null,
            "grid_template_areas": null,
            "grid_template_columns": null,
            "grid_template_rows": null,
            "height": null,
            "justify_content": null,
            "justify_items": null,
            "left": null,
            "margin": null,
            "max_height": null,
            "max_width": null,
            "min_height": null,
            "min_width": null,
            "object_fit": null,
            "object_position": null,
            "order": null,
            "overflow": null,
            "overflow_x": null,
            "overflow_y": null,
            "padding": null,
            "right": null,
            "top": null,
            "visibility": null,
            "width": null
          }
        },
        "653000e94af5461aa808de3296bd66fe": {
          "model_module": "@jupyter-widgets/controls",
          "model_name": "ProgressStyleModel",
          "model_module_version": "1.5.0",
          "state": {
            "_model_module": "@jupyter-widgets/controls",
            "_model_module_version": "1.5.0",
            "_model_name": "ProgressStyleModel",
            "_view_count": null,
            "_view_module": "@jupyter-widgets/base",
            "_view_module_version": "1.2.0",
            "_view_name": "StyleView",
            "bar_color": null,
            "description_width": ""
          }
        },
        "ed495684a84f469f9890b97987ffa42e": {
          "model_module": "@jupyter-widgets/base",
          "model_name": "LayoutModel",
          "model_module_version": "1.2.0",
          "state": {
            "_model_module": "@jupyter-widgets/base",
            "_model_module_version": "1.2.0",
            "_model_name": "LayoutModel",
            "_view_count": null,
            "_view_module": "@jupyter-widgets/base",
            "_view_module_version": "1.2.0",
            "_view_name": "LayoutView",
            "align_content": null,
            "align_items": null,
            "align_self": null,
            "border": null,
            "bottom": null,
            "display": null,
            "flex": null,
            "flex_flow": null,
            "grid_area": null,
            "grid_auto_columns": null,
            "grid_auto_flow": null,
            "grid_auto_rows": null,
            "grid_column": null,
            "grid_gap": null,
            "grid_row": null,
            "grid_template_areas": null,
            "grid_template_columns": null,
            "grid_template_rows": null,
            "height": null,
            "justify_content": null,
            "justify_items": null,
            "left": null,
            "margin": null,
            "max_height": null,
            "max_width": null,
            "min_height": null,
            "min_width": null,
            "object_fit": null,
            "object_position": null,
            "order": null,
            "overflow": null,
            "overflow_x": null,
            "overflow_y": null,
            "padding": null,
            "right": null,
            "top": null,
            "visibility": null,
            "width": null
          }
        },
        "768ae19b2e244cfe94a458460680204d": {
          "model_module": "@jupyter-widgets/controls",
          "model_name": "DescriptionStyleModel",
          "model_module_version": "1.5.0",
          "state": {
            "_model_module": "@jupyter-widgets/controls",
            "_model_module_version": "1.5.0",
            "_model_name": "DescriptionStyleModel",
            "_view_count": null,
            "_view_module": "@jupyter-widgets/base",
            "_view_module_version": "1.2.0",
            "_view_name": "StyleView",
            "description_width": ""
          }
        }
      }
    }
  },
  "cells": [
    {
      "cell_type": "markdown",
      "metadata": {
        "id": "view-in-github",
        "colab_type": "text"
      },
      "source": [
        "<a href=\"https://colab.research.google.com/github/luizgontijo/IA025_Intro_Deep_Learning/blob/main/ex07_basic_language_model.ipynb\" target=\"_parent\"><img src=\"https://colab.research.google.com/assets/colab-badge.svg\" alt=\"Open In Colab\"/></a>"
      ]
    },
    {
      "cell_type": "code",
      "source": [
        "nome = 'Luiz Fernando da Costa Gontijo'\n",
        "print(f'Meu nome é {nome}')"
      ],
      "metadata": {
        "colab": {
          "base_uri": "https://localhost:8080/"
        },
        "id": "jOdQB41_4ZxG",
        "outputId": "2db81409-dcf3-42b7-889c-e2bf17c667e2"
      },
      "execution_count": null,
      "outputs": [
        {
          "output_type": "stream",
          "name": "stdout",
          "text": [
            "Meu nome é Luiz Fernando da Costa Gontijo\n"
          ]
        }
      ]
    },
    {
      "cell_type": "markdown",
      "source": [
        "# Sobre a execução desse trabalho\n",
        "\n",
        "Foram considerados alguns testes com uma fração da base de dados:\n",
        "\n",
        "* 1 teste: 3 camadas e 2 relu -> PPL_val=1701.97\n",
        "* 2 teste: 3 camadas e 2 tanh -> PPL_val=1540.55\n",
        "* 3 teste: 3 camadas, 2 tanh e lr=1e-5 -> PPL_val=2020.16\n",
        "* 4 teste: 3 camadas, 2 tanh, lr=3e-5, 2*neuronios nas duas camadas ocultas -> PPL_val=1782.67\n",
        "\n",
        "Modelo final: 3 camadas, tanh, lr=3e-5 e 2*neuronios nas duas camadas ocultas \n",
        "\n",
        "O notebook no [link](https://drive.google.com/file/d/17OG3cti-cJcAry1tP3uw1Rf2ZEdFkY8p/view?usp=sharing) foi executado com 100.000.000 exemplos. O valor da perplexidade para os dados de teste encontrado foi igual a 188,547. O valor de perplexidade obtido neste notebook reflete somente 50.000.000 exemplos, não sendo o melhor resultado obtido no meu trabalho. \n",
        "\n",
        "Optei por essa estratégia com problemas no tempo de uso da GPU do colab. Inicialmente tentei executar com 400.000.000 exemplos, mas o tempo excedeu o limite. No entanto, pude notar que o valor da perplexidade tende a cair muito com o aumento dos dados de treino. "
      ],
      "metadata": {
        "id": "jRUYyP8darEc"
      }
    },
    {
      "cell_type": "markdown",
      "metadata": {
        "id": "2IbuChoAPMEn"
      },
      "source": [
        "#  Exercício: Modelo de Linguagem (Bengio 2003) - MLP + Embeddings"
      ]
    },
    {
      "cell_type": "markdown",
      "metadata": {
        "id": "p_DBb0-Klwf2"
      },
      "source": [
        "Neste exercício iremos treinar uma rede neural simples para prever a proxima palavra de um texto, data as palavras anteriores como entrada. Esta tarefa é chamada de \"Modelagem da Língua\".\n",
        "\n",
        "Este dataset já possui um tamanho razoável e é bem provável que você vai precisar rodar seus experimentos com GPU.\n",
        "\n",
        "Alguns conselhos úteis:\n",
        "- **ATENÇÃO:** o dataset é bem grande. Não dê comando de imprimí-lo.\n",
        "- Durante a depuração, faça seu dataset ficar bem pequeno, para que a depuração seja mais rápida e não precise de GPU. Somente ligue a GPU quando o seu laço de treinamento já está funcionando\n",
        "- Não deixe para fazer esse exercício na véspera. Ele é trabalhoso."
      ]
    },
    {
      "cell_type": "code",
      "source": [
        "# iremos utilizar a biblioteca dos transformers para ter acesso ao tokenizador do BERT.\n",
        "!pip install transformers"
      ],
      "metadata": {
        "id": "3twP0YJC4jmJ",
        "colab": {
          "base_uri": "https://localhost:8080/"
        },
        "outputId": "bc0a02a1-22aa-489d-9bbd-21e2f3ffc8d2"
      },
      "execution_count": null,
      "outputs": [
        {
          "output_type": "stream",
          "name": "stdout",
          "text": [
            "Collecting transformers\n",
            "  Downloading transformers-4.19.2-py3-none-any.whl (4.2 MB)\n",
            "\u001b[K     |████████████████████████████████| 4.2 MB 5.3 MB/s \n",
            "\u001b[?25hRequirement already satisfied: requests in /usr/local/lib/python3.7/dist-packages (from transformers) (2.23.0)\n",
            "Collecting huggingface-hub<1.0,>=0.1.0\n",
            "  Downloading huggingface_hub-0.6.0-py3-none-any.whl (84 kB)\n",
            "\u001b[K     |████████████████████████████████| 84 kB 4.2 MB/s \n",
            "\u001b[?25hRequirement already satisfied: tqdm>=4.27 in /usr/local/lib/python3.7/dist-packages (from transformers) (4.64.0)\n",
            "Collecting pyyaml>=5.1\n",
            "  Downloading PyYAML-6.0-cp37-cp37m-manylinux_2_5_x86_64.manylinux1_x86_64.manylinux_2_12_x86_64.manylinux2010_x86_64.whl (596 kB)\n",
            "\u001b[K     |████████████████████████████████| 596 kB 61.2 MB/s \n",
            "\u001b[?25hRequirement already satisfied: filelock in /usr/local/lib/python3.7/dist-packages (from transformers) (3.7.0)\n",
            "Requirement already satisfied: packaging>=20.0 in /usr/local/lib/python3.7/dist-packages (from transformers) (21.3)\n",
            "Requirement already satisfied: regex!=2019.12.17 in /usr/local/lib/python3.7/dist-packages (from transformers) (2019.12.20)\n",
            "Collecting tokenizers!=0.11.3,<0.13,>=0.11.1\n",
            "  Downloading tokenizers-0.12.1-cp37-cp37m-manylinux_2_12_x86_64.manylinux2010_x86_64.whl (6.6 MB)\n",
            "\u001b[K     |████████████████████████████████| 6.6 MB 56.0 MB/s \n",
            "\u001b[?25hRequirement already satisfied: numpy>=1.17 in /usr/local/lib/python3.7/dist-packages (from transformers) (1.21.6)\n",
            "Requirement already satisfied: importlib-metadata in /usr/local/lib/python3.7/dist-packages (from transformers) (4.11.3)\n",
            "Requirement already satisfied: typing-extensions>=3.7.4.3 in /usr/local/lib/python3.7/dist-packages (from huggingface-hub<1.0,>=0.1.0->transformers) (4.2.0)\n",
            "Requirement already satisfied: pyparsing!=3.0.5,>=2.0.2 in /usr/local/lib/python3.7/dist-packages (from packaging>=20.0->transformers) (3.0.9)\n",
            "Requirement already satisfied: zipp>=0.5 in /usr/local/lib/python3.7/dist-packages (from importlib-metadata->transformers) (3.8.0)\n",
            "Requirement already satisfied: idna<3,>=2.5 in /usr/local/lib/python3.7/dist-packages (from requests->transformers) (2.10)\n",
            "Requirement already satisfied: chardet<4,>=3.0.2 in /usr/local/lib/python3.7/dist-packages (from requests->transformers) (3.0.4)\n",
            "Requirement already satisfied: certifi>=2017.4.17 in /usr/local/lib/python3.7/dist-packages (from requests->transformers) (2021.10.8)\n",
            "Requirement already satisfied: urllib3!=1.25.0,!=1.25.1,<1.26,>=1.21.1 in /usr/local/lib/python3.7/dist-packages (from requests->transformers) (1.24.3)\n",
            "Installing collected packages: pyyaml, tokenizers, huggingface-hub, transformers\n",
            "  Attempting uninstall: pyyaml\n",
            "    Found existing installation: PyYAML 3.13\n",
            "    Uninstalling PyYAML-3.13:\n",
            "      Successfully uninstalled PyYAML-3.13\n",
            "Successfully installed huggingface-hub-0.6.0 pyyaml-6.0 tokenizers-0.12.1 transformers-4.19.2\n"
          ]
        }
      ]
    },
    {
      "cell_type": "markdown",
      "metadata": {
        "id": "YnyhJZtTRNMx"
      },
      "source": [
        "## Importação dos pacotes"
      ]
    },
    {
      "cell_type": "code",
      "metadata": {
        "id": "qlIOVCajPWcU"
      },
      "source": [
        "import collections\n",
        "import itertools\n",
        "import functools\n",
        "import math\n",
        "import random\n",
        "\n",
        "import torch\n",
        "import torch.nn as nn\n",
        "import numpy as np\n",
        "from torch.utils.data import DataLoader\n",
        "from tqdm import tqdm_notebook\n"
      ],
      "execution_count": null,
      "outputs": []
    },
    {
      "cell_type": "code",
      "source": [
        "# Check which GPU we are using\n",
        "!nvidia-smi"
      ],
      "metadata": {
        "id": "w9f3PfifAwpU",
        "colab": {
          "base_uri": "https://localhost:8080/"
        },
        "outputId": "e4da3a96-3cad-4140-b868-c07c83001f67"
      },
      "execution_count": null,
      "outputs": [
        {
          "output_type": "stream",
          "name": "stdout",
          "text": [
            "Wed May 18 22:13:54 2022       \n",
            "+-----------------------------------------------------------------------------+\n",
            "| NVIDIA-SMI 460.32.03    Driver Version: 460.32.03    CUDA Version: 11.2     |\n",
            "|-------------------------------+----------------------+----------------------+\n",
            "| GPU  Name        Persistence-M| Bus-Id        Disp.A | Volatile Uncorr. ECC |\n",
            "| Fan  Temp  Perf  Pwr:Usage/Cap|         Memory-Usage | GPU-Util  Compute M. |\n",
            "|                               |                      |               MIG M. |\n",
            "|===============================+======================+======================|\n",
            "|   0  Tesla T4            Off  | 00000000:00:04.0 Off |                    0 |\n",
            "| N/A   35C    P8     9W /  70W |      0MiB / 15109MiB |      0%      Default |\n",
            "|                               |                      |                  N/A |\n",
            "+-------------------------------+----------------------+----------------------+\n",
            "                                                                               \n",
            "+-----------------------------------------------------------------------------+\n",
            "| Processes:                                                                  |\n",
            "|  GPU   GI   CI        PID   Type   Process name                  GPU Memory |\n",
            "|        ID   ID                                                   Usage      |\n",
            "|=============================================================================|\n",
            "|  No running processes found                                                 |\n",
            "+-----------------------------------------------------------------------------+\n"
          ]
        }
      ]
    },
    {
      "cell_type": "code",
      "source": [
        "if torch.cuda.is_available(): \n",
        "   dev = \"cuda:0\"\n",
        "else: \n",
        "   dev = \"cpu\"\n",
        "device = torch.device(dev)\n",
        "print('Using {}'.format(device))"
      ],
      "metadata": {
        "id": "whTCe2i7AtoV",
        "colab": {
          "base_uri": "https://localhost:8080/"
        },
        "outputId": "44370d40-8c7a-4607-8548-6604b7fd03a7"
      },
      "execution_count": null,
      "outputs": [
        {
          "output_type": "stream",
          "name": "stdout",
          "text": [
            "Using cuda:0\n"
          ]
        }
      ]
    },
    {
      "cell_type": "markdown",
      "metadata": {
        "id": "9ZfxgV2DUk58"
      },
      "source": [
        "## Implementação do MyDataset"
      ]
    },
    {
      "cell_type": "code",
      "source": [
        "from typing import List\n",
        "\n",
        "\n",
        "def tokenize(text: str, tokenizer):\n",
        "    return tokenizer(text, return_tensors=None, add_special_tokens=False).input_ids\n",
        "\n",
        "\n",
        "# implementar uma janela deslizante, em que cada passo dessa janela serve como exemplos de treino\n",
        "# exemplo:\n",
        "# texto: eu gosto de comer pizza\n",
        "# n = 2\n",
        "# x = [eu, gosto] y =[de]\n",
        "# x = [gosto, de] y =[comer]\n",
        "\n",
        "class MyDataset():\n",
        "    def __init__(self, texts: List[str], tokenizer, context_size: int):\n",
        "        # Escreva seu código aqui\n",
        "        self.texts = texts\n",
        "\n",
        "        self.context_size = context_size\n",
        "\n",
        "        self.target = []\n",
        "        self.input = []\n",
        "        for text in self.texts:\n",
        "          tokens_key = tokenize(text, tokenizer)\n",
        "          for i in range(len(tokens_key)-self.context_size):\n",
        "            self.input.append(tokens_key[i:i+self.context_size])      \n",
        "            self.target.append(tokens_key[i+self.context_size])\n",
        "\n",
        "        self.input = torch.Tensor(self.input).long()\n",
        "        self.target = torch.Tensor(self.target).long()\n",
        "        \n",
        "\n",
        "    def __len__(self):\n",
        "        # Escreva seu código aqui\n",
        "        dim = len(self.target)\n",
        "        return dim\n",
        "\n",
        "    def __getitem__(self, idx):\n",
        "        # Escreva seu código aqui\n",
        "        input = self.input[idx]\n",
        "        target = self.target[idx]\n",
        "\n",
        "        return input, target"
      ],
      "metadata": {
        "id": "NIF7_CS9etHI"
      },
      "execution_count": null,
      "outputs": []
    },
    {
      "cell_type": "markdown",
      "source": [
        "## Teste se sua implementação do MyDataset está correta"
      ],
      "metadata": {
        "id": "wew-gFbWeBTq"
      }
    },
    {
      "cell_type": "code",
      "source": [
        "from transformers import BertTokenizer\n",
        "\n",
        "tokenizer = BertTokenizer.from_pretrained(\"neuralmind/bert-base-portuguese-cased\")\n",
        "\n",
        "dummy_texts = ['Eu gosto de correr', 'Ela gosta muito de comer pizza']\n",
        "\n",
        "dummy_dataset = MyDataset(texts=dummy_texts, tokenizer=tokenizer, context_size=3)\n",
        "dummy_loader = DataLoader(dummy_dataset, batch_size=6, shuffle=False)\n",
        "assert len(dummy_dataset) == 5\n",
        "print('passou no assert de tamanho do dataset')\n",
        "\n",
        "first_batch_input, first_batch_target = next(iter(dummy_loader))\n",
        "\n",
        "correct_first_batch_input = torch.LongTensor(\n",
        "    [[ 3396, 10303,   125],\n",
        "     [ 1660,  5971,   785],\n",
        "     [ 5971,   785,   125],\n",
        "     [  785,   125,  1847],\n",
        "     [  125,  1847, 13779]])\n",
        "\n",
        "correct_first_batch_target = torch.LongTensor([13239,   125,  1847, 13779, 15616])\n",
        "\n",
        "assert torch.equal(first_batch_input, correct_first_batch_input)\n",
        "print('Passou no assert de input')\n",
        "assert torch.equal(first_batch_target, correct_first_batch_target)\n",
        "print('Passou no assert de target')"
      ],
      "metadata": {
        "id": "8r7jBFFUeApe",
        "colab": {
          "base_uri": "https://localhost:8080/",
          "height": 230,
          "referenced_widgets": [
            "bab30a1479954036a6e0cb718abd842c",
            "5f0594db53db4eb9bfdad62e5f695f53",
            "0ed051fc39af4c059464a735f8aab8ff",
            "2d5a6bb94888428686bfb64641704c73",
            "8da21cee8947401aba2d318c4657d32b",
            "b1a4e3546c654422b599327327e30840",
            "e4d516d737964576bb2622d9f77e7c45",
            "25bbd7687f19425baeadad956206f065",
            "aa2cd855340746be8696af734c830f57",
            "5d881ed83bbc4636b13f3931051c0952",
            "bfda5d2fa7014b6d9b24ed8e6f23b111",
            "f33f772f3a934705bd47d641e9ca7019",
            "6b86300a78d945f5a34284c9a24d5774",
            "a842d3edc0684379a5c5ae23c6f94359",
            "8a73d56549af4705acdec5c946a6a688",
            "122366a2a8a54677870dd718f074652f",
            "190a6fd81d9e44efa9b6cf571f8bf6c3",
            "122bdc4dc37b495294b72b71b7dd2325",
            "54af752e102e4bc9ac73f0be316c2341",
            "a225cc7cdabd4bccacab5c27f39cdccd",
            "f489a1ce1b2a45a09609bface0a011d5",
            "6c9511d8df6447e5a56881e07c2cc9a2",
            "6ff6982ab05c455bbeeb79ea9b11f979",
            "fb8902b9b1da4a5b82490998b609709f",
            "c315bae4f6584e55ba2d10f5488053f8",
            "f488341255e74e43bb734c47fc5b7fc6",
            "a70236437a094faa9fda6a2d6a199d0a",
            "efc5b07af66c4e4c9a9057b7071989bb",
            "04fafe3df29240c680eaf88cd8f1c62b",
            "9b785648c1574a50ac931c16705e14c7",
            "62e3c50647eb46ebabed8bfbdcd75e55",
            "4a1951ec5423426c87379fa24dd26703",
            "3dd79a79cfc64ab3b9d2378c242c0363",
            "fcc8ae1ea2ea421c80b8478b54a105f9",
            "3e786f5c0d4d49e1a190ebb92f05b9dc",
            "6bcbecc0bd09425e8daf3cbd6928e91f",
            "d73540dbe5a4490f9dfd4a880e13322a",
            "35ef1b6dfb874166ae70c6a65079dfdb",
            "c8a726d8c5334bfca518cc5ee155bbd7",
            "eedd318294ff46639999e5f65f5efd4a",
            "02a0655f54d44b778e9c4716af72cde0",
            "fb1aa02fc02148e492205df8424b89ca",
            "cc6a21fb422c4a7792722e2b8839b91c",
            "cb23df0245614e74aef2a0ab4156234e",
            "f12c14f36a004d2283c72b3e011f2dc9",
            "fcb523dc05fb4820b568a99d1b1accc1",
            "8c014999c78f46f290df89dff711d40a",
            "fd0ded17f28e48578de76628a12bc583",
            "f6432a399a244af189e539f2b6f58999",
            "6a61e4e2a7cf47f7b134d292e37c33ea",
            "1a6ffc9840c84eb4b9e3ff15ed81807b",
            "6716ca1c02a646698bc4b4154a48f6ef",
            "653000e94af5461aa808de3296bd66fe",
            "ed495684a84f469f9890b97987ffa42e",
            "768ae19b2e244cfe94a458460680204d"
          ]
        },
        "outputId": "995a4f08-04bf-4f50-ab1d-b92287d6780d"
      },
      "execution_count": null,
      "outputs": [
        {
          "output_type": "display_data",
          "data": {
            "text/plain": [
              "Downloading:   0%|          | 0.00/205k [00:00<?, ?B/s]"
            ],
            "application/vnd.jupyter.widget-view+json": {
              "version_major": 2,
              "version_minor": 0,
              "model_id": "bab30a1479954036a6e0cb718abd842c"
            }
          },
          "metadata": {}
        },
        {
          "output_type": "display_data",
          "data": {
            "text/plain": [
              "Downloading:   0%|          | 0.00/2.00 [00:00<?, ?B/s]"
            ],
            "application/vnd.jupyter.widget-view+json": {
              "version_major": 2,
              "version_minor": 0,
              "model_id": "f33f772f3a934705bd47d641e9ca7019"
            }
          },
          "metadata": {}
        },
        {
          "output_type": "display_data",
          "data": {
            "text/plain": [
              "Downloading:   0%|          | 0.00/112 [00:00<?, ?B/s]"
            ],
            "application/vnd.jupyter.widget-view+json": {
              "version_major": 2,
              "version_minor": 0,
              "model_id": "6ff6982ab05c455bbeeb79ea9b11f979"
            }
          },
          "metadata": {}
        },
        {
          "output_type": "display_data",
          "data": {
            "text/plain": [
              "Downloading:   0%|          | 0.00/43.0 [00:00<?, ?B/s]"
            ],
            "application/vnd.jupyter.widget-view+json": {
              "version_major": 2,
              "version_minor": 0,
              "model_id": "fcc8ae1ea2ea421c80b8478b54a105f9"
            }
          },
          "metadata": {}
        },
        {
          "output_type": "display_data",
          "data": {
            "text/plain": [
              "Downloading:   0%|          | 0.00/647 [00:00<?, ?B/s]"
            ],
            "application/vnd.jupyter.widget-view+json": {
              "version_major": 2,
              "version_minor": 0,
              "model_id": "f12c14f36a004d2283c72b3e011f2dc9"
            }
          },
          "metadata": {}
        },
        {
          "output_type": "stream",
          "name": "stdout",
          "text": [
            "passou no assert de tamanho do dataset\n",
            "Passou no assert de input\n",
            "Passou no assert de target\n"
          ]
        }
      ]
    },
    {
      "cell_type": "markdown",
      "metadata": {
        "id": "4LfrHHouleJ0"
      },
      "source": [
        "# Carregamento do dataset "
      ]
    },
    {
      "cell_type": "markdown",
      "metadata": {
        "id": "V2vFWjsSkmop"
      },
      "source": [
        "Iremos usar uma pequena amostra do dataset [BrWaC](https://www.inf.ufrgs.br/pln/wiki/index.php?title=BrWaC) para treinar e avaliar nosso modelo de linguagem."
      ]
    },
    {
      "cell_type": "code",
      "source": [
        "!wget -nc https://storage.googleapis.com/unicamp-dl/ia025a_2022s1/aula7/sample_brwac.txt"
      ],
      "metadata": {
        "id": "vGlN1WqrXPA6",
        "colab": {
          "base_uri": "https://localhost:8080/"
        },
        "outputId": "1b1ecdc6-d724-465a-bc02-716e037618d4"
      },
      "execution_count": null,
      "outputs": [
        {
          "output_type": "stream",
          "name": "stdout",
          "text": [
            "--2022-05-18 22:14:20--  https://storage.googleapis.com/unicamp-dl/ia025a_2022s1/aula7/sample_brwac.txt\n",
            "Resolving storage.googleapis.com (storage.googleapis.com)... 209.85.147.128, 142.250.125.128, 142.250.136.128, ...\n",
            "Connecting to storage.googleapis.com (storage.googleapis.com)|209.85.147.128|:443... connected.\n",
            "HTTP request sent, awaiting response... 200 OK\n",
            "Length: 123983611 (118M) [text/plain]\n",
            "Saving to: ‘sample_brwac.txt’\n",
            "\n",
            "sample_brwac.txt    100%[===================>] 118.24M   242MB/s    in 0.5s    \n",
            "\n",
            "2022-05-18 22:14:21 (242 MB/s) - ‘sample_brwac.txt’ saved [123983611/123983611]\n",
            "\n"
          ]
        }
      ]
    },
    {
      "cell_type": "code",
      "source": [
        "# Load datasets\n",
        "context_size = 9\n",
        "\n",
        "valid_examples = 100\n",
        "test_examples = 100\n",
        "texts = open('sample_brwac.txt').readlines()\n",
        "\n",
        "#print('Truncating for debugging purposes.')\n",
        "#texts = texts[:500]  # trunca dataset para trabalhar só com 500 documentos dele. treinar no dataset inteiro para ter uma boa PPL\n",
        "\n",
        "training_texts = texts[:-(valid_examples + test_examples)]\n",
        "valid_texts = texts[-(valid_examples + test_examples):-test_examples]\n",
        "test_texts = texts[-test_examples:]\n",
        "\n",
        "training_dataset = MyDataset(texts=training_texts, tokenizer=tokenizer, context_size=context_size)\n",
        "valid_dataset = MyDataset(texts=valid_texts, tokenizer=tokenizer, context_size=context_size)\n",
        "test_dataset = MyDataset(texts=test_texts, tokenizer=tokenizer, context_size=context_size)"
      ],
      "metadata": {
        "id": "gxa_4gmiA-wE"
      },
      "execution_count": null,
      "outputs": []
    },
    {
      "cell_type": "code",
      "source": [
        "print(f'training examples: {len(training_dataset)}')\n",
        "print(f'valid examples: {len(valid_dataset)}')\n",
        "print(f'test examples: {len(test_dataset)}')"
      ],
      "metadata": {
        "id": "KCSGJ5m7py4c",
        "colab": {
          "base_uri": "https://localhost:8080/"
        },
        "outputId": "0849d55a-2aa7-402c-8414-3606051d2a39"
      },
      "execution_count": null,
      "outputs": [
        {
          "output_type": "stream",
          "name": "stdout",
          "text": [
            "training examples: 27675945\n",
            "valid examples: 82070\n",
            "test examples: 166726\n"
          ]
        }
      ]
    },
    {
      "cell_type": "markdown",
      "source": [
        "training examples: 406905\n",
        "valid examples: 135562\n",
        "test examples: 136690"
      ],
      "metadata": {
        "id": "q1w31dzIWdbm"
      }
    },
    {
      "cell_type": "code",
      "metadata": {
        "id": "hGaAjYDfWdd1"
      },
      "source": [
        "import torch.nn\n",
        "\n",
        "class LanguageModel(torch.nn.Module):\n",
        "\n",
        "    def __init__(self, vocab_size, context_size, embedding_dim, hidden_size):\n",
        "        \"\"\"\n",
        "        Implements the Neural Language Model proposed by Bengio et al.\"\n",
        "\n",
        "        Args:\n",
        "            vocab_size (int): Size of the input vocabulary.\n",
        "            context_size (int): Size of the sequence to consider as context for prediction.\n",
        "            embedding_dim (int): Dimension of the embedding layer for each word in the context.\n",
        "            hidden_size (int): Size of the hidden layer.\n",
        "        \"\"\"\n",
        "        # Escreva seu código aqui.\n",
        "        super(LanguageModel, self).__init__()\n",
        "        self.vocab_size = vocab_size\n",
        "        self.context_size = context_size\n",
        "        self.embedding_dim = embedding_dim\n",
        "        self.hidden_size = hidden_size\n",
        "\n",
        "        self.embeddings = torch.nn.Embedding(num_embeddings = self.vocab_size, embedding_dim = self.embedding_dim)\n",
        "        \n",
        "        # definir camadas totalmente conectadas\n",
        "        self.linear1 = nn.Linear(context_size * embedding_dim, self.hidden_size * 2)\n",
        "        self.linear2 = nn.Linear(self.hidden_size * 2, self.hidden_size * 2)\n",
        "        self.linear3 = nn.Linear(self.hidden_size * 2, vocab_size)\n",
        "\n",
        "        # testar funções de ativação:\n",
        "        #self.relu1 = nn.ReLU()\n",
        "        #self.relu2 = nn.ReLU()\n",
        "\n",
        "        # tentar essas duas depois\n",
        "        self.tanh1 = nn.Tanh()\n",
        "        self.tanh2 = nn.Tanh()\n",
        "\n",
        "    def forward(self, inputs):\n",
        "        \"\"\"\n",
        "        Args:\n",
        "            inputs is a LongTensor of shape (batch_size, context_size)\n",
        "        \"\"\"\n",
        "        # Escreva seu código aqui.\n",
        "        # definir o vetor de entrada na rede\n",
        "        x = self.embeddings(inputs) #lista de embeddings com os indices dos inputs\n",
        "        x = x.view(-1,self.context_size*self.embedding_dim) # tornar a lista total anterior como um grande tensor\n",
        "\n",
        "        x = self.linear1(x)\n",
        "        x = self.tanh1(x)\n",
        "        x = self.linear2(x)\n",
        "        x = self.tanh2(x)\n",
        "        x = self.linear3(x)\n",
        "        #out_relu = torch.nn.functional.tanh(x_linear1)\n",
        "        #logitos = self.linear2(out_relu)\n",
        "        #self.logitos = logitos\n",
        "        #log_probs = torch.nn.functional.softmax(logitos, dim=1)\n",
        "        #self.log_probs = log_probs\n",
        "\n",
        "        return x\n",
        "\n",
        "\n",
        "    # verificar alguns resultados\n",
        "    def print(self):\n",
        "      print(f'Logitos: {self.logitos}'f'Embeddings: {self.embeddings.weight}', f'Embeddings shape: {self.embeddings.weight.shape}', f'probs: {self.log_probs}')\n"
      ],
      "execution_count": null,
      "outputs": []
    },
    {
      "cell_type": "markdown",
      "source": [
        "## Teste o modelo com um exemplo"
      ],
      "metadata": {
        "id": "Rm6_PTH2i98e"
      }
    },
    {
      "cell_type": "code",
      "metadata": {
        "id": "RwnxfZlrZoT_",
        "colab": {
          "base_uri": "https://localhost:8080/"
        },
        "outputId": "3ed887e9-c068-4e11-9376-9c287d9e9ffe"
      },
      "source": [
        "model = LanguageModel(\n",
        "    vocab_size=tokenizer.vocab_size,\n",
        "    context_size=context_size,\n",
        "    embedding_dim=64,\n",
        "    hidden_size=128,\n",
        ").to(device)\n",
        "\n",
        "sample_train, _ = next(iter(DataLoader(training_dataset)))\n",
        "sample_train_gpu = sample_train.to(device)\n",
        "model(sample_train_gpu).shape\n",
        "\n",
        "#model.print()"
      ],
      "execution_count": null,
      "outputs": [
        {
          "output_type": "execute_result",
          "data": {
            "text/plain": [
              "torch.Size([1, 29794])"
            ]
          },
          "metadata": {},
          "execution_count": 12
        }
      ]
    },
    {
      "cell_type": "code",
      "metadata": {
        "id": "I3Vh6B-VkA01",
        "colab": {
          "base_uri": "https://localhost:8080/"
        },
        "outputId": "af8f0cf8-9d0e-43bf-bae9-bac7cdd05281"
      },
      "source": [
        "num_params = sum(p.numel() for p in model.parameters() if p.requires_grad)\n",
        "print(f'Number of model parameters: {num_params}')"
      ],
      "execution_count": null,
      "outputs": [
        {
          "output_type": "stream",
          "name": "stdout",
          "text": [
            "Number of model parameters: 9777378\n"
          ]
        }
      ]
    },
    {
      "cell_type": "markdown",
      "source": [
        "## Assert da Perplexidade\n"
      ],
      "metadata": {
        "id": "8nhbUVsYnVAp"
      }
    },
    {
      "cell_type": "code",
      "source": [
        "random.seed(123)\n",
        "np.random.seed(123)\n",
        "torch.manual_seed(123)\n",
        "\n",
        "\n",
        "def perplexity(logits, target):\n",
        "    \"\"\"\n",
        "    Computes the perplexity.\n",
        "\n",
        "    Args:\n",
        "        logits: a FloatTensor of shape (batch_size, vocab_size)\n",
        "        target: a LongTensor of shape (batch_size,)\n",
        "\n",
        "    Returns:\n",
        "        A float corresponding to the perplexity.\n",
        "    \"\"\"\n",
        "    # Escreva seu código aqui.\n",
        "    # getting loss using cross entropy\n",
        "    loss = torch.nn.functional.cross_entropy(logits, target)\n",
        "\n",
        "    # calculating perplexity\n",
        "    perplexity  = torch.exp(loss)\n",
        "    \n",
        "    return perplexity\n",
        "\n",
        "n_examples = 1000\n",
        "\n",
        "sample_train, target_token_ids = next(iter(DataLoader(training_dataset, batch_size=n_examples)))\n",
        "sample_train_gpu = sample_train.to(device)\n",
        "target_token_ids = target_token_ids.to(device)\n",
        "logits = model(sample_train_gpu)\n",
        "\n",
        "my_perplexity = perplexity(logits=logits, target=target_token_ids)\n",
        "\n",
        "print(f'my perplexity:              {int(my_perplexity)}')\n",
        "print(f'correct initial perplexity: {tokenizer.vocab_size}')\n",
        "\n",
        "assert math.isclose(my_perplexity, tokenizer.vocab_size, abs_tol=2000)\n",
        "print('Passou o no assert da perplexidade')"
      ],
      "metadata": {
        "id": "gbMP8VAUncfX",
        "colab": {
          "base_uri": "https://localhost:8080/"
        },
        "outputId": "aff4311f-13bd-4053-fc1d-a51cb95b5a3a"
      },
      "execution_count": null,
      "outputs": [
        {
          "output_type": "stream",
          "name": "stdout",
          "text": [
            "my perplexity:              30133\n",
            "correct initial perplexity: 29794\n",
            "Passou o no assert da perplexidade\n"
          ]
        }
      ]
    },
    {
      "cell_type": "markdown",
      "source": [
        "## Laço de Treinamento e Validação"
      ],
      "metadata": {
        "id": "KiJtrsqPnE_l"
      }
    },
    {
      "cell_type": "code",
      "metadata": {
        "id": "zIMSaY-UUGUE",
        "colab": {
          "base_uri": "https://localhost:8080/"
        },
        "outputId": "67f059c7-fd5c-41be-a391-96c7ea2f568f"
      },
      "source": [
        "#max_examples = 100_000_000 #não definimos uma época, sim a quantidade de exemplos que o modelo quer ver\n",
        "\n",
        "max_examples = 50_000_000 #não definimos uma época, sim a quantidade de exemplos que o modelo quer ver\n",
        "eval_every_steps = 5000 # validação a cada 5000 passos\n",
        "lr = 3e-5\n",
        "\n",
        "\n",
        "model = LanguageModel(\n",
        "    vocab_size=tokenizer.vocab_size,\n",
        "    context_size=context_size,\n",
        "    embedding_dim=128,\n",
        "    hidden_size=256,\n",
        ").to(device)\n",
        "\n",
        "train_loader = DataLoader(training_dataset, batch_size=64, shuffle=True, drop_last=True)\n",
        "validation_loader = DataLoader(valid_dataset, batch_size=64)\n",
        "\n",
        "optimizer = torch.optim.Adam(model.parameters(), lr=lr)\n",
        "\n",
        "\n",
        "def train_step(input, target):\n",
        "    model.train()\n",
        "    model.zero_grad()\n",
        "\n",
        "    logits = model(input.to(device))\n",
        "    loss = nn.functional.cross_entropy(logits, target.to(device))\n",
        "    loss.backward()\n",
        "    optimizer.step()\n",
        "\n",
        "    return loss.item()\n",
        "\n",
        "\n",
        "def validation_step(input, target):\n",
        "    logits = model(input)\n",
        "    loss = nn.functional.cross_entropy(logits, target)\n",
        "    return loss.item()\n",
        "\n",
        "\n",
        "train_losses = []\n",
        "n_examples = 0\n",
        "step = 0\n",
        "while n_examples < max_examples:\n",
        "    for input, target in train_loader:\n",
        "        loss = train_step(input.to(device), target.to(device)) \n",
        "        train_losses.append(loss)\n",
        "        \n",
        "        if step % eval_every_steps == 0:\n",
        "            train_ppl = np.exp(np.average(train_losses))\n",
        "\n",
        "            with torch.no_grad():\n",
        "                valid_ppl = np.exp(np.average([\n",
        "                    validation_step(input.to(device), target.to(device))\n",
        "                    for input, target in validation_loader]))\n",
        "\n",
        "            print(f'{step} steps; {n_examples} examples so far; train ppl: {train_ppl:.2f}, valid ppl: {valid_ppl:.2f}')\n",
        "            train_losses = []\n",
        "\n",
        "        n_examples += len(input)  # Increment of batch size\n",
        "        step += 1\n",
        "        if n_examples >= max_examples:\n",
        "            break"
      ],
      "execution_count": null,
      "outputs": [
        {
          "output_type": "stream",
          "name": "stdout",
          "text": [
            "0 steps; 0 examples so far; train ppl: 29732.91, valid ppl: 30165.04\n",
            "5000 steps; 320000 examples so far; train ppl: 2652.32, valid ppl: 1698.85\n",
            "10000 steps; 640000 examples so far; train ppl: 1522.75, valid ppl: 1389.87\n",
            "15000 steps; 960000 examples so far; train ppl: 1278.85, valid ppl: 1204.70\n",
            "20000 steps; 1280000 examples so far; train ppl: 1135.07, valid ppl: 1095.04\n",
            "25000 steps; 1600000 examples so far; train ppl: 1045.50, valid ppl: 1021.43\n",
            "30000 steps; 1920000 examples so far; train ppl: 984.87, valid ppl: 961.56\n",
            "35000 steps; 2240000 examples so far; train ppl: 924.91, valid ppl: 914.21\n",
            "40000 steps; 2560000 examples so far; train ppl: 878.39, valid ppl: 875.56\n",
            "45000 steps; 2880000 examples so far; train ppl: 841.96, valid ppl: 840.06\n",
            "50000 steps; 3200000 examples so far; train ppl: 812.53, valid ppl: 806.32\n",
            "55000 steps; 3520000 examples so far; train ppl: 797.46, valid ppl: 784.27\n",
            "60000 steps; 3840000 examples so far; train ppl: 758.24, valid ppl: 758.90\n",
            "65000 steps; 4160000 examples so far; train ppl: 737.78, valid ppl: 737.37\n",
            "70000 steps; 4480000 examples so far; train ppl: 727.33, valid ppl: 716.41\n",
            "75000 steps; 4800000 examples so far; train ppl: 712.46, valid ppl: 700.16\n",
            "80000 steps; 5120000 examples so far; train ppl: 692.29, valid ppl: 684.16\n",
            "85000 steps; 5440000 examples so far; train ppl: 672.34, valid ppl: 669.95\n",
            "90000 steps; 5760000 examples so far; train ppl: 662.03, valid ppl: 655.45\n",
            "95000 steps; 6080000 examples so far; train ppl: 646.30, valid ppl: 641.57\n",
            "100000 steps; 6400000 examples so far; train ppl: 635.00, valid ppl: 627.31\n",
            "105000 steps; 6720000 examples so far; train ppl: 621.28, valid ppl: 614.78\n",
            "110000 steps; 7040000 examples so far; train ppl: 605.17, valid ppl: 602.50\n",
            "115000 steps; 7360000 examples so far; train ppl: 588.03, valid ppl: 592.45\n",
            "120000 steps; 7680000 examples so far; train ppl: 585.07, valid ppl: 583.52\n",
            "125000 steps; 8000000 examples so far; train ppl: 578.78, valid ppl: 572.75\n",
            "130000 steps; 8320000 examples so far; train ppl: 562.01, valid ppl: 563.54\n",
            "135000 steps; 8640000 examples so far; train ppl: 553.54, valid ppl: 553.59\n",
            "140000 steps; 8960000 examples so far; train ppl: 548.30, valid ppl: 543.49\n",
            "145000 steps; 9280000 examples so far; train ppl: 537.49, valid ppl: 535.00\n",
            "150000 steps; 9600000 examples so far; train ppl: 529.23, valid ppl: 526.88\n",
            "155000 steps; 9920000 examples so far; train ppl: 521.53, valid ppl: 518.30\n",
            "160000 steps; 10240000 examples so far; train ppl: 515.64, valid ppl: 508.90\n",
            "165000 steps; 10560000 examples so far; train ppl: 508.40, valid ppl: 501.81\n",
            "170000 steps; 10880000 examples so far; train ppl: 497.13, valid ppl: 498.28\n",
            "175000 steps; 11200000 examples so far; train ppl: 491.32, valid ppl: 490.82\n",
            "180000 steps; 11520000 examples so far; train ppl: 482.31, valid ppl: 483.82\n",
            "185000 steps; 11840000 examples so far; train ppl: 475.22, valid ppl: 477.69\n",
            "190000 steps; 12160000 examples so far; train ppl: 469.29, valid ppl: 473.00\n",
            "195000 steps; 12480000 examples so far; train ppl: 466.05, valid ppl: 465.29\n",
            "200000 steps; 12800000 examples so far; train ppl: 463.84, valid ppl: 460.79\n",
            "205000 steps; 13120000 examples so far; train ppl: 455.19, valid ppl: 453.94\n",
            "210000 steps; 13440000 examples so far; train ppl: 446.60, valid ppl: 448.17\n",
            "215000 steps; 13760000 examples so far; train ppl: 445.13, valid ppl: 444.25\n",
            "220000 steps; 14080000 examples so far; train ppl: 435.71, valid ppl: 438.95\n",
            "225000 steps; 14400000 examples so far; train ppl: 433.63, valid ppl: 434.38\n",
            "230000 steps; 14720000 examples so far; train ppl: 428.08, valid ppl: 429.43\n",
            "235000 steps; 15040000 examples so far; train ppl: 425.03, valid ppl: 424.82\n",
            "240000 steps; 15360000 examples so far; train ppl: 419.33, valid ppl: 420.49\n",
            "245000 steps; 15680000 examples so far; train ppl: 415.08, valid ppl: 415.08\n",
            "250000 steps; 16000000 examples so far; train ppl: 409.86, valid ppl: 411.70\n",
            "255000 steps; 16320000 examples so far; train ppl: 410.36, valid ppl: 408.21\n",
            "260000 steps; 16640000 examples so far; train ppl: 403.12, valid ppl: 404.83\n",
            "265000 steps; 16960000 examples so far; train ppl: 398.71, valid ppl: 401.76\n",
            "270000 steps; 17280000 examples so far; train ppl: 401.25, valid ppl: 397.66\n",
            "275000 steps; 17600000 examples so far; train ppl: 394.14, valid ppl: 394.30\n",
            "280000 steps; 17920000 examples so far; train ppl: 389.01, valid ppl: 391.23\n",
            "285000 steps; 18240000 examples so far; train ppl: 385.67, valid ppl: 388.69\n",
            "290000 steps; 18560000 examples so far; train ppl: 382.06, valid ppl: 385.04\n",
            "295000 steps; 18880000 examples so far; train ppl: 378.21, valid ppl: 381.53\n",
            "300000 steps; 19200000 examples so far; train ppl: 377.81, valid ppl: 378.83\n",
            "305000 steps; 19520000 examples so far; train ppl: 376.11, valid ppl: 376.20\n",
            "310000 steps; 19840000 examples so far; train ppl: 370.23, valid ppl: 372.62\n",
            "315000 steps; 20160000 examples so far; train ppl: 372.44, valid ppl: 369.90\n",
            "320000 steps; 20480000 examples so far; train ppl: 371.24, valid ppl: 366.22\n",
            "325000 steps; 20800000 examples so far; train ppl: 362.56, valid ppl: 364.59\n",
            "330000 steps; 21120000 examples so far; train ppl: 361.10, valid ppl: 361.97\n",
            "335000 steps; 21440000 examples so far; train ppl: 359.78, valid ppl: 358.68\n",
            "340000 steps; 21760000 examples so far; train ppl: 357.49, valid ppl: 355.84\n",
            "345000 steps; 22080000 examples so far; train ppl: 356.03, valid ppl: 353.26\n",
            "350000 steps; 22400000 examples so far; train ppl: 349.83, valid ppl: 350.86\n",
            "355000 steps; 22720000 examples so far; train ppl: 350.87, valid ppl: 348.04\n",
            "360000 steps; 23040000 examples so far; train ppl: 349.23, valid ppl: 346.00\n",
            "365000 steps; 23360000 examples so far; train ppl: 346.66, valid ppl: 343.58\n",
            "370000 steps; 23680000 examples so far; train ppl: 343.04, valid ppl: 341.97\n",
            "375000 steps; 24000000 examples so far; train ppl: 339.17, valid ppl: 340.70\n",
            "380000 steps; 24320000 examples so far; train ppl: 336.84, valid ppl: 338.89\n",
            "385000 steps; 24640000 examples so far; train ppl: 336.11, valid ppl: 337.25\n",
            "390000 steps; 24960000 examples so far; train ppl: 332.64, valid ppl: 333.81\n",
            "395000 steps; 25280000 examples so far; train ppl: 333.82, valid ppl: 332.68\n",
            "400000 steps; 25600000 examples so far; train ppl: 330.87, valid ppl: 330.50\n",
            "405000 steps; 25920000 examples so far; train ppl: 329.34, valid ppl: 328.34\n",
            "410000 steps; 26240000 examples so far; train ppl: 328.56, valid ppl: 325.90\n",
            "415000 steps; 26560000 examples so far; train ppl: 325.28, valid ppl: 324.59\n",
            "420000 steps; 26880000 examples so far; train ppl: 322.53, valid ppl: 323.20\n",
            "425000 steps; 27200000 examples so far; train ppl: 322.12, valid ppl: 320.69\n",
            "430000 steps; 27520000 examples so far; train ppl: 320.53, valid ppl: 319.07\n",
            "435000 steps; 27840000 examples so far; train ppl: 312.77, valid ppl: 318.60\n",
            "440000 steps; 28160000 examples so far; train ppl: 307.83, valid ppl: 317.76\n",
            "445000 steps; 28480000 examples so far; train ppl: 306.85, valid ppl: 316.13\n",
            "450000 steps; 28800000 examples so far; train ppl: 304.90, valid ppl: 314.68\n",
            "455000 steps; 29120000 examples so far; train ppl: 302.86, valid ppl: 312.78\n",
            "460000 steps; 29440000 examples so far; train ppl: 302.75, valid ppl: 311.14\n",
            "465000 steps; 29760000 examples so far; train ppl: 299.07, valid ppl: 309.62\n",
            "470000 steps; 30080000 examples so far; train ppl: 302.54, valid ppl: 309.06\n",
            "475000 steps; 30400000 examples so far; train ppl: 297.27, valid ppl: 306.42\n",
            "480000 steps; 30720000 examples so far; train ppl: 298.23, valid ppl: 305.27\n",
            "485000 steps; 31040000 examples so far; train ppl: 299.25, valid ppl: 303.70\n",
            "490000 steps; 31360000 examples so far; train ppl: 299.57, valid ppl: 302.98\n",
            "495000 steps; 31680000 examples so far; train ppl: 294.44, valid ppl: 301.31\n",
            "500000 steps; 32000000 examples so far; train ppl: 292.63, valid ppl: 300.30\n",
            "505000 steps; 32320000 examples so far; train ppl: 290.46, valid ppl: 299.50\n",
            "510000 steps; 32640000 examples so far; train ppl: 290.99, valid ppl: 298.76\n",
            "515000 steps; 32960000 examples so far; train ppl: 287.48, valid ppl: 296.38\n",
            "520000 steps; 33280000 examples so far; train ppl: 290.91, valid ppl: 295.03\n",
            "525000 steps; 33600000 examples so far; train ppl: 287.92, valid ppl: 293.84\n",
            "530000 steps; 33920000 examples so far; train ppl: 285.82, valid ppl: 292.87\n",
            "535000 steps; 34240000 examples so far; train ppl: 286.27, valid ppl: 292.24\n",
            "540000 steps; 34560000 examples so far; train ppl: 286.22, valid ppl: 290.38\n",
            "545000 steps; 34880000 examples so far; train ppl: 286.27, valid ppl: 289.21\n",
            "550000 steps; 35200000 examples so far; train ppl: 286.34, valid ppl: 288.33\n",
            "555000 steps; 35520000 examples so far; train ppl: 284.44, valid ppl: 287.30\n",
            "560000 steps; 35840000 examples so far; train ppl: 281.95, valid ppl: 286.96\n",
            "565000 steps; 36160000 examples so far; train ppl: 278.83, valid ppl: 285.96\n",
            "570000 steps; 36480000 examples so far; train ppl: 281.14, valid ppl: 284.64\n",
            "575000 steps; 36800000 examples so far; train ppl: 278.84, valid ppl: 284.20\n",
            "580000 steps; 37120000 examples so far; train ppl: 279.61, valid ppl: 282.96\n",
            "585000 steps; 37440000 examples so far; train ppl: 275.86, valid ppl: 281.39\n",
            "590000 steps; 37760000 examples so far; train ppl: 276.32, valid ppl: 280.33\n",
            "595000 steps; 38080000 examples so far; train ppl: 274.71, valid ppl: 279.40\n",
            "600000 steps; 38400000 examples so far; train ppl: 275.21, valid ppl: 277.91\n",
            "605000 steps; 38720000 examples so far; train ppl: 272.93, valid ppl: 277.63\n",
            "610000 steps; 39040000 examples so far; train ppl: 271.37, valid ppl: 276.60\n",
            "615000 steps; 39360000 examples so far; train ppl: 267.95, valid ppl: 276.21\n",
            "620000 steps; 39680000 examples so far; train ppl: 271.12, valid ppl: 275.20\n",
            "625000 steps; 40000000 examples so far; train ppl: 269.63, valid ppl: 274.02\n",
            "630000 steps; 40320000 examples so far; train ppl: 270.22, valid ppl: 273.31\n",
            "635000 steps; 40640000 examples so far; train ppl: 268.21, valid ppl: 272.42\n",
            "640000 steps; 40960000 examples so far; train ppl: 268.62, valid ppl: 271.49\n",
            "645000 steps; 41280000 examples so far; train ppl: 268.17, valid ppl: 270.61\n",
            "650000 steps; 41600000 examples so far; train ppl: 265.71, valid ppl: 270.40\n",
            "655000 steps; 41920000 examples so far; train ppl: 262.21, valid ppl: 268.89\n",
            "660000 steps; 42240000 examples so far; train ppl: 267.13, valid ppl: 268.54\n",
            "665000 steps; 42560000 examples so far; train ppl: 264.13, valid ppl: 267.13\n",
            "670000 steps; 42880000 examples so far; train ppl: 262.00, valid ppl: 266.39\n",
            "675000 steps; 43200000 examples so far; train ppl: 263.83, valid ppl: 265.23\n",
            "680000 steps; 43520000 examples so far; train ppl: 259.99, valid ppl: 264.76\n",
            "685000 steps; 43840000 examples so far; train ppl: 258.97, valid ppl: 265.00\n",
            "690000 steps; 44160000 examples so far; train ppl: 260.48, valid ppl: 263.99\n",
            "695000 steps; 44480000 examples so far; train ppl: 258.21, valid ppl: 263.01\n",
            "700000 steps; 44800000 examples so far; train ppl: 259.59, valid ppl: 262.65\n",
            "705000 steps; 45120000 examples so far; train ppl: 256.86, valid ppl: 261.24\n",
            "710000 steps; 45440000 examples so far; train ppl: 258.26, valid ppl: 261.37\n",
            "715000 steps; 45760000 examples so far; train ppl: 257.65, valid ppl: 260.65\n",
            "720000 steps; 46080000 examples so far; train ppl: 257.11, valid ppl: 259.68\n",
            "725000 steps; 46400000 examples so far; train ppl: 253.60, valid ppl: 258.91\n",
            "730000 steps; 46720000 examples so far; train ppl: 256.00, valid ppl: 258.15\n",
            "735000 steps; 47040000 examples so far; train ppl: 254.36, valid ppl: 258.03\n",
            "740000 steps; 47360000 examples so far; train ppl: 253.14, valid ppl: 257.42\n",
            "745000 steps; 47680000 examples so far; train ppl: 252.80, valid ppl: 256.87\n",
            "750000 steps; 48000000 examples so far; train ppl: 249.91, valid ppl: 255.43\n",
            "755000 steps; 48320000 examples so far; train ppl: 251.05, valid ppl: 255.07\n",
            "760000 steps; 48640000 examples so far; train ppl: 250.19, valid ppl: 255.10\n",
            "765000 steps; 48960000 examples so far; train ppl: 249.28, valid ppl: 254.07\n",
            "770000 steps; 49280000 examples so far; train ppl: 250.53, valid ppl: 253.13\n",
            "775000 steps; 49600000 examples so far; train ppl: 248.08, valid ppl: 252.85\n",
            "780000 steps; 49920000 examples so far; train ppl: 247.14, valid ppl: 252.42\n"
          ]
        }
      ]
    },
    {
      "cell_type": "markdown",
      "source": [
        "## Avaliação final no dataset de teste\n",
        "\n",
        "\n",
        "Bonus: o modelo com menor perplexidade no dataset de testes ganhará 0.5 ponto na nota final."
      ],
      "metadata": {
        "id": "VgdNymJdNPXP"
      }
    },
    {
      "cell_type": "code",
      "metadata": {
        "id": "nxN5YytzZ7Tn",
        "colab": {
          "base_uri": "https://localhost:8080/"
        },
        "outputId": "58fdc90c-e050-4a21-9227-b9bff02aada9"
      },
      "source": [
        "test_loader = DataLoader(test_dataset, batch_size=64)\n",
        "\n",
        "with torch.no_grad():\n",
        "    test_ppl = np.exp(np.average([\n",
        "        validation_step(input.to(device), target.to(device))\n",
        "        for input, target in test_loader\n",
        "    ]))\n",
        "\n",
        "print(f'test perplexity: {test_ppl}')"
      ],
      "execution_count": null,
      "outputs": [
        {
          "output_type": "stream",
          "name": "stdout",
          "text": [
            "test perplexity: 233.84482894990916\n"
          ]
        }
      ]
    },
    {
      "cell_type": "markdown",
      "source": [
        "## Teste seu modelo com uma sentença\n",
        "\n",
        "Escolha uma sentença gerada pelo modelo que ache interessante."
      ],
      "metadata": {
        "id": "BHvEs8mPszy_"
      }
    },
    {
      "cell_type": "code",
      "source": [
        "# usando o modelo para prever sentenças grandes\n",
        "prompt = 'Eu gosto de comer pizza pois me faz'  # Ex: 'Eu gosto de comer pizza pois me faz'\n",
        "max_output_tokens = 10\n",
        "\n",
        "for _ in range(max_output_tokens):\n",
        "    input_ids = tokenize(text=prompt, tokenizer=tokenizer)\n",
        "    input_ids_truncated = input_ids[-context_size:]  # Usamos apenas os últimos <context_size> tokens como entrada para o modelo.\n",
        "    logits = model(torch.LongTensor(input_ids_truncated).to(device))\n",
        "    # Ao usarmos o argmax, a saída do modelo em cada passo é token de maior probabilidade.\n",
        "    # Isso se chama decodificação gulosa (greedy decoding).\n",
        "    predicted_id = torch.argmax(logits).item()\n",
        "    input_ids += [predicted_id]  # Concatenamos a entrada com o token escolhido nesse passo.\n",
        "    prompt = tokenizer.decode(input_ids)\n",
        "    print(prompt)"
      ],
      "metadata": {
        "id": "-CFElf4tsytW",
        "colab": {
          "base_uri": "https://localhost:8080/"
        },
        "outputId": "7211d9c1-003e-471a-e7ba-133bd98d7e05"
      },
      "execution_count": null,
      "outputs": [
        {
          "output_type": "stream",
          "name": "stdout",
          "text": [
            "Eu gosto de comer pizza pois me faz,\n",
            "Eu gosto de comer pizza pois me faz, mas\n",
            "Eu gosto de comer pizza pois me faz, mas não\n",
            "Eu gosto de comer pizza pois me faz, mas não é\n",
            "Eu gosto de comer pizza pois me faz, mas não é o\n",
            "Eu gosto de comer pizza pois me faz, mas não é o que\n",
            "Eu gosto de comer pizza pois me faz, mas não é o que eu\n",
            "Eu gosto de comer pizza pois me faz, mas não é o que eu não\n",
            "Eu gosto de comer pizza pois me faz, mas não é o que eu não sei\n",
            "Eu gosto de comer pizza pois me faz, mas não é o que eu não sei.\n"
          ]
        }
      ]
    },
    {
      "cell_type": "code",
      "source": [
        ""
      ],
      "metadata": {
        "id": "6VbU_BrDjK-B"
      },
      "execution_count": null,
      "outputs": []
    }
  ]
}